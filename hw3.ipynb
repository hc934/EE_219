{
 "cells": [
  {
   "cell_type": "code",
   "execution_count": 7,
   "metadata": {
    "collapsed": false
   },
   "outputs": [],
   "source": [
    "import pandas as pd\n",
    "import numpy as np\n",
    "import matplotlib.pyplot as plt\n",
    "%matplotlib inline\n",
    "\n",
    "headers = ['user_id', 'movie_id', 'rating', 'time']\n",
    "data = pd.read_table('ml-100k/u.data', sep='\\t', header=None, names=headers)"
   ]
  },
  {
   "cell_type": "code",
   "execution_count": 32,
   "metadata": {
    "collapsed": false
   },
   "outputs": [
    {
     "data": {
      "text/html": [
       "<div>\n",
       "<table border=\"1\" class=\"dataframe\">\n",
       "  <thead>\n",
       "    <tr style=\"text-align: right;\">\n",
       "      <th></th>\n",
       "      <th>user_id</th>\n",
       "      <th>movie_id</th>\n",
       "      <th>rating</th>\n",
       "      <th>time</th>\n",
       "    </tr>\n",
       "  </thead>\n",
       "  <tbody>\n",
       "    <tr>\n",
       "      <th>0</th>\n",
       "      <td>196</td>\n",
       "      <td>242</td>\n",
       "      <td>3</td>\n",
       "      <td>881250949</td>\n",
       "    </tr>\n",
       "    <tr>\n",
       "      <th>1</th>\n",
       "      <td>186</td>\n",
       "      <td>302</td>\n",
       "      <td>3</td>\n",
       "      <td>891717742</td>\n",
       "    </tr>\n",
       "    <tr>\n",
       "      <th>2</th>\n",
       "      <td>22</td>\n",
       "      <td>377</td>\n",
       "      <td>1</td>\n",
       "      <td>878887116</td>\n",
       "    </tr>\n",
       "    <tr>\n",
       "      <th>3</th>\n",
       "      <td>244</td>\n",
       "      <td>51</td>\n",
       "      <td>2</td>\n",
       "      <td>880606923</td>\n",
       "    </tr>\n",
       "    <tr>\n",
       "      <th>4</th>\n",
       "      <td>166</td>\n",
       "      <td>346</td>\n",
       "      <td>1</td>\n",
       "      <td>886397596</td>\n",
       "    </tr>\n",
       "  </tbody>\n",
       "</table>\n",
       "</div>"
      ],
      "text/plain": [
       "   user_id  movie_id  rating       time\n",
       "0      196       242       3  881250949\n",
       "1      186       302       3  891717742\n",
       "2       22       377       1  878887116\n",
       "3      244        51       2  880606923\n",
       "4      166       346       1  886397596"
      ]
     },
     "execution_count": 32,
     "metadata": {},
     "output_type": "execute_result"
    }
   ],
   "source": [
    "data.head()"
   ]
  },
  {
   "cell_type": "code",
   "execution_count": 39,
   "metadata": {
    "collapsed": false,
    "scrolled": true
   },
   "outputs": [],
   "source": [
    "user = data['user_id'].values\n",
    "movie = data['movie_id'].values\n",
    "rating = data['rating'].values"
   ]
  },
  {
   "cell_type": "code",
   "execution_count": 4,
   "metadata": {
    "collapsed": false
   },
   "outputs": [],
   "source": [
    "def build_R(user, movie, rating):\n",
    "    R = np.zeros((943,1682),dtype=int)\n",
    "    for i in range(len(user)):\n",
    "        R[user[i]-1, movie[i]-1] = rating[i]\n",
    "    return R"
   ]
  },
  {
   "cell_type": "code",
   "execution_count": 5,
   "metadata": {
    "collapsed": false
   },
   "outputs": [
    {
     "data": {
      "text/plain": [
       "array([[ 1.,  1.,  1., ...,  0.,  0.,  0.],\n",
       "       [ 1.,  0.,  0., ...,  0.,  0.,  0.],\n",
       "       [ 0.,  0.,  0., ...,  0.,  0.,  0.],\n",
       "       ..., \n",
       "       [ 1.,  0.,  0., ...,  0.,  0.,  0.],\n",
       "       [ 0.,  0.,  0., ...,  0.,  0.,  0.],\n",
       "       [ 0.,  1.,  0., ...,  0.,  0.,  0.]])"
      ]
     },
     "execution_count": 5,
     "metadata": {},
     "output_type": "execute_result"
    }
   ],
   "source": [
    "R = build_R(user, movie, rating)\n",
    "W = (R!=0)\n",
    "W[W == True] = 1\n",
    "W[W == False] = 0\n",
    "# To be consistent with our Q matrix\n",
    "W = W.astype(np.float64, copy=False)\n",
    "W"
   ]
  },
  {
   "cell_type": "code",
   "execution_count": 6,
   "metadata": {
    "collapsed": true
   },
   "outputs": [],
   "source": [
    "def get_error(R, U, V, W):\n",
    "    return np.sum((W * (R - np.dot(U, V))**2))"
   ]
  },
  {
   "cell_type": "code",
   "execution_count": 28,
   "metadata": {
    "collapsed": false
   },
   "outputs": [
    {
     "name": "stdout",
     "output_type": "stream",
     "text": [
      "(943, 1682)\n"
     ]
    },
    {
     "data": {
      "text/plain": [
       "array([[5, 3, 4, ..., 0, 0, 0],\n",
       "       [4, 0, 0, ..., 0, 0, 0],\n",
       "       [0, 0, 0, ..., 0, 0, 0],\n",
       "       ..., \n",
       "       [5, 0, 0, ..., 0, 0, 0],\n",
       "       [0, 0, 0, ..., 0, 0, 0],\n",
       "       [0, 5, 0, ..., 0, 0, 0]])"
      ]
     },
     "execution_count": 28,
     "metadata": {},
     "output_type": "execute_result"
    }
   ],
   "source": [
    "print R.shape\n",
    "R"
   ]
  },
  {
   "cell_type": "markdown",
   "metadata": {},
   "source": [
    "# Part 1 (No Cross Validation)"
   ]
  },
  {
   "cell_type": "code",
   "execution_count": 8,
   "metadata": {
    "collapsed": false,
    "scrolled": true
   },
   "outputs": [
    {
     "name": "stdout",
     "output_type": "stream",
     "text": [
      "('min error:', 518682.62841141428)\n"
     ]
    },
    {
     "data": {
      "image/png": "[encoded data removed]",
      "text/plain": [
       "<matplotlib.figure.Figure at 0x113b38d90>"
      ]
     },
     "metadata": {},
     "output_type": "display_data"
    },
    {
     "name": "stdout",
     "output_type": "stream",
     "text": [
      "('min error:', 344321.48484513257)\n"
     ]
    },
    {
     "data": {
      "image/png": "[encoded data removed]",
      "text/plain": [
       "<matplotlib.figure.Figure at 0x115bd0cd0>"
      ]
     },
     "metadata": {},
     "output_type": "display_data"
    },
    {
     "name": "stdout",
     "output_type": "stream",
     "text": [
      "('min error:', 228771.95513621415)\n"
     ]
    },
    {
     "data": {
      "image/png": "[encoded data removed]",
      "text/plain": [
       "<matplotlib.figure.Figure at 0x11610ad50>"
      ]
     },
     "metadata": {},
     "output_type": "display_data"
    },
    {
     "name": "stdout",
     "output_type": "stream",
     "text": [
      "('min error:', 7328.5006101953968)\n"
     ]
    },
    {
     "data": {
      "image/png": "[encoded data removed]",
      "text/plain": [
       "<matplotlib.figure.Figure at 0x1161d7050>"
      ]
     },
     "metadata": {},
     "output_type": "display_data"
    }
   ],
   "source": [
    "m, n = R.shape\n",
    "n_iterations = 100\n",
    "min_error = np.inf\n",
    "for k in (10, 50, 100, 500):\n",
    "    U = 5 * np.random.rand(m, k)\n",
    "    V = 5 * np.random.rand(k, n)\n",
    "    errors = []\n",
    "    for it in range(n_iterations):\n",
    "        U = np.linalg.solve(np.dot(V, V.T), np.dot(V, R.T)).T\n",
    "        V = np.linalg.solve(np.dot(U.T, U), np.dot(U.T, R)) \n",
    "        error = get_error(R, U, V, W)                \n",
    "        errors.append(error)\n",
    "        \n",
    "        # find the R_hat with min error\n",
    "        if error<min_error:\n",
    "            min_error = error\n",
    "            R_hat = np.dot(U, V)\n",
    "\n",
    "    print(\"min error:\", min_error)\n",
    "    plt.plot(errors)\n",
    "    plt.title(\"k = %d\" % k)\n",
    "    plt.ylabel(\"Mean Squared Error\")\n",
    "    plt.xlabel(\"Iteration\")\n",
    "    plt.show()"
   ]
  },
  {
   "cell_type": "code",
   "execution_count": 9,
   "metadata": {
    "collapsed": false
   },
   "outputs": [
    {
     "data": {
      "text/plain": [
       "array([[ 4.6685711 ,  3.09151157,  3.79704864, ...,  0.67870268,\n",
       "         0.67237972,  0.70181976],\n",
       "       [ 3.84779138,  0.74279844,  0.9081698 , ...,  0.65855347,\n",
       "         0.70184005,  0.7114051 ],\n",
       "       [ 0.70167886,  0.74914972,  0.718823  , ...,  0.72389392,\n",
       "         0.71574997,  0.6606244 ],\n",
       "       ..., \n",
       "       [ 4.63974204,  0.66136223,  0.67457705, ...,  0.69266462,\n",
       "         0.68256109,  0.69085666],\n",
       "       [ 0.70527442,  0.95854795,  0.7553875 , ...,  0.68134905,\n",
       "         0.69411845,  0.67493008],\n",
       "       [ 0.6581675 ,  4.55757412,  0.80506508, ...,  0.71564836,\n",
       "         0.73029981,  0.67570742]])"
      ]
     },
     "execution_count": 9,
     "metadata": {},
     "output_type": "execute_result"
    }
   ],
   "source": [
    "R_hat-=np.min(R_hat)\n",
    "R_hat *= float(5) / np.max(R_hat)\n",
    "R_hat"
   ]
  },
  {
   "cell_type": "markdown",
   "metadata": {},
   "source": [
    "# Part 2 (Cross Validation)"
   ]
  },
  {
   "cell_type": "code",
   "execution_count": 29,
   "metadata": {
    "collapsed": false,
    "scrolled": true
   },
   "outputs": [
    {
     "data": {
      "text/plain": [
       "<generator object split at 0x128ff57d0>"
      ]
     },
     "execution_count": 29,
     "metadata": {},
     "output_type": "execute_result"
    }
   ],
   "source": [
    "# from sklearn.model_selection import KFold\n",
    "\n",
    "# def validation_error(test_user, test_movie, R, test_rating):\n",
    "#     error = 0\n",
    "#     for i in range(len(test_user)):\n",
    "#         error += np.absolute(test_rating[i]-R[test_user[i]-1, test_movie[i]-1])\n",
    "#     return error\n",
    "\n",
    "# # 10-fold cross validation\n",
    "# m, n = R.shape\n",
    "# n_iterations = 100\n",
    "# kf = KFold(n_splits=10)\n",
    "\n",
    "# for k in (10, 50, 100, 500):\n",
    "#     count = 1\n",
    "#     v_errors = []\n",
    "#     for train, test in kf.split(user):\n",
    "#         train_user = user[train]\n",
    "#         train_movie = movie[train]\n",
    "#         train_rating = rating[train]\n",
    "#         test_user = user[test]\n",
    "#         test_movie = movie[test]\n",
    "#         test_rating = rating[test]\n",
    "\n",
    "#         R = build_R(train_user, train_movie, train_rating)\n",
    "#         W = (R!=0)\n",
    "#         W[W == True] = 1\n",
    "#         W[W == False] = 0\n",
    "#         W = W.astype(np.float64, copy=False)\n",
    "\n",
    "#         U = 5 * np.random.rand(m, k) \n",
    "#         V = 5 * np.random.rand(k, n)\n",
    "#         errors = []\n",
    "#         min_error = np.inf\n",
    "#         for it in range(n_iterations):\n",
    "#             U = np.linalg.solve(np.dot(V, V.T), np.dot(V, R.T)).T\n",
    "#             V = np.linalg.solve(np.dot(U.T, U), np.dot(U.T, R)) \n",
    "#             error = get_error(R, U, V, W)                \n",
    "#             errors.append(error)\n",
    "#             if error<min_error:\n",
    "#                 min_error = error\n",
    "#                 min_test = test\n",
    "#                 R_hat = np.dot(U, V)\n",
    "\n",
    "#         R_hat -= np.min(R_hat)\n",
    "#         R_hat *= float(5) / np.max(R_hat)\n",
    "#         v_error = validation_error(test_user, test_movie, R_hat, test_rating)\n",
    "#         print(\"k=%d, average error of test %d:%f\"%(k, count, v_error/len(test_user)))\n",
    "#         v_errors.append(v_error)\n",
    "#         count += 1\n",
    "#     print(\"average error of k=%d system:%f\"%(k, sum(v_errors)/10))\n",
    "    "
   ]
  },
  {
   "cell_type": "code",
   "execution_count": null,
   "metadata": {
    "collapsed": false
   },
   "outputs": [
    {
     "name": "stdout",
     "output_type": "stream",
     "text": [
      "k=10, average error of test 1:1.858030\n",
      "average error of k=10 system:1858.029846\n",
      "k=10, average error of test 2:1.877288\n",
      "average error of k=10 system:3735.317615\n",
      "k=10, average error of test 3:1.852146\n",
      "average error of k=10 system:5587.463955\n",
      "k=10, average error of test 4:1.845032\n",
      "average error of k=10 system:7432.495797\n",
      "k=10, average error of test 5:1.857828\n",
      "average error of k=10 system:9290.323799\n",
      "k=10, average error of test 6:1.856006\n",
      "average error of k=10 system:11146.329780\n",
      "k=10, average error of test 7:1.850142\n",
      "average error of k=10 system:12996.471931\n",
      "k=10, average error of test 8:1.877411\n",
      "average error of k=10 system:14873.883178\n",
      "k=10, average error of test 9:1.852948\n",
      "average error of k=10 system:16726.831465\n",
      "k=10, average error of test 10:1.854741\n",
      "average error of k=10 system:18581.572891\n",
      "k=50, average error of test 1:1.420244\n",
      "average error of k=50 system:1420.243582\n"
     ]
    }
   ],
   "source": [
    "from sklearn.model_selection import KFold\n",
    "\n",
    "def validation_error(test_user, test_movie, R, test_rating):\n",
    "    error = 0\n",
    "    for i in range(len(test_user)):\n",
    "        error += np.absolute(test_rating[i]-R[test_user[i]-1, test_movie[i]-1])\n",
    "    return error\n",
    "\n",
    "# 10-fold cross validation\n",
    "m, n = R.shape\n",
    "n_iterations = 100\n",
    "kf = KFold(n_splits=10, shuffle=True, random_state=50)\n",
    "\n",
    "for k in (10, 50, 100, 500):\n",
    "    count = 1\n",
    "    v_errors = []\n",
    "    for train_index,test_index in kf.split(data):\n",
    "        train = data.as_matrix()[train_index]\n",
    "        test = data.as_matrix()[test_index]\n",
    "        W = (R!=0)\n",
    "        W[W == True] = 1\n",
    "        W[W == False] = 0\n",
    "        # To be consistent with our Q matrix\n",
    "        W = W.astype(np.float64, copy=False)\n",
    "\n",
    "        for i in range(len(train_index)):\n",
    "            W[train[i][0] - 1, train[i][1] - 1] = 1\n",
    "\n",
    "        U = 5 * np.random.rand(m, k) \n",
    "        V = 5 * np.random.rand(k, n)\n",
    "        errors = []\n",
    "        min_error = np.inf\n",
    "        for it in range(n_iterations):\n",
    "            U = np.linalg.solve(np.dot(V, V.T), np.dot(V, R.T)).T\n",
    "            V = np.linalg.solve(np.dot(U.T, U), np.dot(U.T, R)) \n",
    "            error = get_error(R, U, V, W)                \n",
    "            errors.append(error)\n",
    "            if error<min_error:\n",
    "                min_error = error\n",
    "                min_test = test\n",
    "                R_hat = np.dot(U, V)\n",
    "\n",
    "        R_hat -= np.min(R_hat)\n",
    "        R_hat *= float(5) / np.max(R_hat)\n",
    "        \n",
    "        v_error = 0\n",
    "        for j in range(len(test_index)):\n",
    "            v_error += np.absolute(test[j][2]-R_hat[test[j][0]-1, test[j][1]-1])\n",
    "        \n",
    "#         v_error = validation_error(test_user, test_movie, R_hat, test_rating)\n",
    "        print(\"k=%d, average error of test %d:%f\"%(k, count, v_error/len(test_index)))\n",
    "        v_errors.append(v_error)\n",
    "        count += 1\n",
    "        print(\"average error of k=%d system:%f\"%(k, sum(v_errors)/10))\n",
    "    \n",
    "    \n",
    " "
   ]
  },
  {
   "cell_type": "code",
   "execution_count": 75,
   "metadata": {
    "collapsed": false
   },
   "outputs": [
    {
     "data": {
      "text/html": [
       "<div>\n",
       "<table border=\"1\" class=\"dataframe\">\n",
       "  <thead>\n",
       "    <tr style=\"text-align: right;\">\n",
       "      <th></th>\n",
       "      <th>user_id</th>\n",
       "      <th>movie_id</th>\n",
       "      <th>rating</th>\n",
       "      <th>time</th>\n",
       "    </tr>\n",
       "  </thead>\n",
       "  <tbody>\n",
       "    <tr>\n",
       "      <th>0</th>\n",
       "      <td>196</td>\n",
       "      <td>242</td>\n",
       "      <td>3</td>\n",
       "      <td>881250949</td>\n",
       "    </tr>\n",
       "    <tr>\n",
       "      <th>1</th>\n",
       "      <td>186</td>\n",
       "      <td>302</td>\n",
       "      <td>3</td>\n",
       "      <td>891717742</td>\n",
       "    </tr>\n",
       "    <tr>\n",
       "      <th>2</th>\n",
       "      <td>22</td>\n",
       "      <td>377</td>\n",
       "      <td>1</td>\n",
       "      <td>878887116</td>\n",
       "    </tr>\n",
       "    <tr>\n",
       "      <th>3</th>\n",
       "      <td>244</td>\n",
       "      <td>51</td>\n",
       "      <td>2</td>\n",
       "      <td>880606923</td>\n",
       "    </tr>\n",
       "    <tr>\n",
       "      <th>4</th>\n",
       "      <td>166</td>\n",
       "      <td>346</td>\n",
       "      <td>1</td>\n",
       "      <td>886397596</td>\n",
       "    </tr>\n",
       "    <tr>\n",
       "      <th>5</th>\n",
       "      <td>298</td>\n",
       "      <td>474</td>\n",
       "      <td>4</td>\n",
       "      <td>884182806</td>\n",
       "    </tr>\n",
       "    <tr>\n",
       "      <th>6</th>\n",
       "      <td>115</td>\n",
       "      <td>265</td>\n",
       "      <td>2</td>\n",
       "      <td>881171488</td>\n",
       "    </tr>\n",
       "    <tr>\n",
       "      <th>7</th>\n",
       "      <td>253</td>\n",
       "      <td>465</td>\n",
       "      <td>5</td>\n",
       "      <td>891628467</td>\n",
       "    </tr>\n",
       "    <tr>\n",
       "      <th>8</th>\n",
       "      <td>305</td>\n",
       "      <td>451</td>\n",
       "      <td>3</td>\n",
       "      <td>886324817</td>\n",
       "    </tr>\n",
       "    <tr>\n",
       "      <th>9</th>\n",
       "      <td>6</td>\n",
       "      <td>86</td>\n",
       "      <td>3</td>\n",
       "      <td>883603013</td>\n",
       "    </tr>\n",
       "    <tr>\n",
       "      <th>10</th>\n",
       "      <td>62</td>\n",
       "      <td>257</td>\n",
       "      <td>2</td>\n",
       "      <td>879372434</td>\n",
       "    </tr>\n",
       "    <tr>\n",
       "      <th>11</th>\n",
       "      <td>286</td>\n",
       "      <td>1014</td>\n",
       "      <td>5</td>\n",
       "      <td>879781125</td>\n",
       "    </tr>\n",
       "    <tr>\n",
       "      <th>12</th>\n",
       "      <td>200</td>\n",
       "      <td>222</td>\n",
       "      <td>5</td>\n",
       "      <td>876042340</td>\n",
       "    </tr>\n",
       "    <tr>\n",
       "      <th>13</th>\n",
       "      <td>210</td>\n",
       "      <td>40</td>\n",
       "      <td>3</td>\n",
       "      <td>891035994</td>\n",
       "    </tr>\n",
       "    <tr>\n",
       "      <th>14</th>\n",
       "      <td>224</td>\n",
       "      <td>29</td>\n",
       "      <td>3</td>\n",
       "      <td>888104457</td>\n",
       "    </tr>\n",
       "    <tr>\n",
       "      <th>15</th>\n",
       "      <td>303</td>\n",
       "      <td>785</td>\n",
       "      <td>3</td>\n",
       "      <td>879485318</td>\n",
       "    </tr>\n",
       "    <tr>\n",
       "      <th>16</th>\n",
       "      <td>122</td>\n",
       "      <td>387</td>\n",
       "      <td>5</td>\n",
       "      <td>879270459</td>\n",
       "    </tr>\n",
       "    <tr>\n",
       "      <th>17</th>\n",
       "      <td>194</td>\n",
       "      <td>274</td>\n",
       "      <td>2</td>\n",
       "      <td>879539794</td>\n",
       "    </tr>\n",
       "    <tr>\n",
       "      <th>18</th>\n",
       "      <td>291</td>\n",
       "      <td>1042</td>\n",
       "      <td>4</td>\n",
       "      <td>874834944</td>\n",
       "    </tr>\n",
       "    <tr>\n",
       "      <th>19</th>\n",
       "      <td>234</td>\n",
       "      <td>1184</td>\n",
       "      <td>2</td>\n",
       "      <td>892079237</td>\n",
       "    </tr>\n",
       "    <tr>\n",
       "      <th>20</th>\n",
       "      <td>119</td>\n",
       "      <td>392</td>\n",
       "      <td>4</td>\n",
       "      <td>886176814</td>\n",
       "    </tr>\n",
       "    <tr>\n",
       "      <th>21</th>\n",
       "      <td>167</td>\n",
       "      <td>486</td>\n",
       "      <td>4</td>\n",
       "      <td>892738452</td>\n",
       "    </tr>\n",
       "    <tr>\n",
       "      <th>22</th>\n",
       "      <td>299</td>\n",
       "      <td>144</td>\n",
       "      <td>4</td>\n",
       "      <td>877881320</td>\n",
       "    </tr>\n",
       "    <tr>\n",
       "      <th>23</th>\n",
       "      <td>291</td>\n",
       "      <td>118</td>\n",
       "      <td>2</td>\n",
       "      <td>874833878</td>\n",
       "    </tr>\n",
       "    <tr>\n",
       "      <th>24</th>\n",
       "      <td>308</td>\n",
       "      <td>1</td>\n",
       "      <td>4</td>\n",
       "      <td>887736532</td>\n",
       "    </tr>\n",
       "    <tr>\n",
       "      <th>25</th>\n",
       "      <td>95</td>\n",
       "      <td>546</td>\n",
       "      <td>2</td>\n",
       "      <td>879196566</td>\n",
       "    </tr>\n",
       "    <tr>\n",
       "      <th>26</th>\n",
       "      <td>38</td>\n",
       "      <td>95</td>\n",
       "      <td>5</td>\n",
       "      <td>892430094</td>\n",
       "    </tr>\n",
       "    <tr>\n",
       "      <th>27</th>\n",
       "      <td>102</td>\n",
       "      <td>768</td>\n",
       "      <td>2</td>\n",
       "      <td>883748450</td>\n",
       "    </tr>\n",
       "    <tr>\n",
       "      <th>28</th>\n",
       "      <td>63</td>\n",
       "      <td>277</td>\n",
       "      <td>4</td>\n",
       "      <td>875747401</td>\n",
       "    </tr>\n",
       "    <tr>\n",
       "      <th>29</th>\n",
       "      <td>160</td>\n",
       "      <td>234</td>\n",
       "      <td>5</td>\n",
       "      <td>876861185</td>\n",
       "    </tr>\n",
       "    <tr>\n",
       "      <th>...</th>\n",
       "      <td>...</td>\n",
       "      <td>...</td>\n",
       "      <td>...</td>\n",
       "      <td>...</td>\n",
       "    </tr>\n",
       "    <tr>\n",
       "      <th>99970</th>\n",
       "      <td>449</td>\n",
       "      <td>120</td>\n",
       "      <td>1</td>\n",
       "      <td>879959573</td>\n",
       "    </tr>\n",
       "    <tr>\n",
       "      <th>99971</th>\n",
       "      <td>661</td>\n",
       "      <td>762</td>\n",
       "      <td>2</td>\n",
       "      <td>876037121</td>\n",
       "    </tr>\n",
       "    <tr>\n",
       "      <th>99972</th>\n",
       "      <td>721</td>\n",
       "      <td>874</td>\n",
       "      <td>3</td>\n",
       "      <td>877137447</td>\n",
       "    </tr>\n",
       "    <tr>\n",
       "      <th>99973</th>\n",
       "      <td>821</td>\n",
       "      <td>151</td>\n",
       "      <td>4</td>\n",
       "      <td>874792889</td>\n",
       "    </tr>\n",
       "    <tr>\n",
       "      <th>99974</th>\n",
       "      <td>764</td>\n",
       "      <td>596</td>\n",
       "      <td>3</td>\n",
       "      <td>876243046</td>\n",
       "    </tr>\n",
       "    <tr>\n",
       "      <th>99975</th>\n",
       "      <td>537</td>\n",
       "      <td>443</td>\n",
       "      <td>3</td>\n",
       "      <td>886031752</td>\n",
       "    </tr>\n",
       "    <tr>\n",
       "      <th>99976</th>\n",
       "      <td>618</td>\n",
       "      <td>628</td>\n",
       "      <td>2</td>\n",
       "      <td>891308019</td>\n",
       "    </tr>\n",
       "    <tr>\n",
       "      <th>99977</th>\n",
       "      <td>487</td>\n",
       "      <td>291</td>\n",
       "      <td>3</td>\n",
       "      <td>883445079</td>\n",
       "    </tr>\n",
       "    <tr>\n",
       "      <th>99978</th>\n",
       "      <td>113</td>\n",
       "      <td>975</td>\n",
       "      <td>5</td>\n",
       "      <td>875936424</td>\n",
       "    </tr>\n",
       "    <tr>\n",
       "      <th>99979</th>\n",
       "      <td>943</td>\n",
       "      <td>391</td>\n",
       "      <td>2</td>\n",
       "      <td>888640291</td>\n",
       "    </tr>\n",
       "    <tr>\n",
       "      <th>99980</th>\n",
       "      <td>864</td>\n",
       "      <td>685</td>\n",
       "      <td>4</td>\n",
       "      <td>888891900</td>\n",
       "    </tr>\n",
       "    <tr>\n",
       "      <th>99981</th>\n",
       "      <td>750</td>\n",
       "      <td>323</td>\n",
       "      <td>3</td>\n",
       "      <td>879445877</td>\n",
       "    </tr>\n",
       "    <tr>\n",
       "      <th>99982</th>\n",
       "      <td>279</td>\n",
       "      <td>64</td>\n",
       "      <td>1</td>\n",
       "      <td>875308510</td>\n",
       "    </tr>\n",
       "    <tr>\n",
       "      <th>99983</th>\n",
       "      <td>646</td>\n",
       "      <td>750</td>\n",
       "      <td>3</td>\n",
       "      <td>888528902</td>\n",
       "    </tr>\n",
       "    <tr>\n",
       "      <th>99984</th>\n",
       "      <td>654</td>\n",
       "      <td>370</td>\n",
       "      <td>2</td>\n",
       "      <td>887863914</td>\n",
       "    </tr>\n",
       "    <tr>\n",
       "      <th>99985</th>\n",
       "      <td>617</td>\n",
       "      <td>582</td>\n",
       "      <td>4</td>\n",
       "      <td>883789294</td>\n",
       "    </tr>\n",
       "    <tr>\n",
       "      <th>99986</th>\n",
       "      <td>913</td>\n",
       "      <td>690</td>\n",
       "      <td>3</td>\n",
       "      <td>880824288</td>\n",
       "    </tr>\n",
       "    <tr>\n",
       "      <th>99987</th>\n",
       "      <td>660</td>\n",
       "      <td>229</td>\n",
       "      <td>2</td>\n",
       "      <td>891406212</td>\n",
       "    </tr>\n",
       "    <tr>\n",
       "      <th>99988</th>\n",
       "      <td>421</td>\n",
       "      <td>498</td>\n",
       "      <td>4</td>\n",
       "      <td>892241344</td>\n",
       "    </tr>\n",
       "    <tr>\n",
       "      <th>99989</th>\n",
       "      <td>495</td>\n",
       "      <td>1091</td>\n",
       "      <td>4</td>\n",
       "      <td>888637503</td>\n",
       "    </tr>\n",
       "    <tr>\n",
       "      <th>99990</th>\n",
       "      <td>806</td>\n",
       "      <td>421</td>\n",
       "      <td>4</td>\n",
       "      <td>882388897</td>\n",
       "    </tr>\n",
       "    <tr>\n",
       "      <th>99991</th>\n",
       "      <td>676</td>\n",
       "      <td>538</td>\n",
       "      <td>4</td>\n",
       "      <td>892685437</td>\n",
       "    </tr>\n",
       "    <tr>\n",
       "      <th>99992</th>\n",
       "      <td>721</td>\n",
       "      <td>262</td>\n",
       "      <td>3</td>\n",
       "      <td>877137285</td>\n",
       "    </tr>\n",
       "    <tr>\n",
       "      <th>99993</th>\n",
       "      <td>913</td>\n",
       "      <td>209</td>\n",
       "      <td>2</td>\n",
       "      <td>881367150</td>\n",
       "    </tr>\n",
       "    <tr>\n",
       "      <th>99994</th>\n",
       "      <td>378</td>\n",
       "      <td>78</td>\n",
       "      <td>3</td>\n",
       "      <td>880056976</td>\n",
       "    </tr>\n",
       "    <tr>\n",
       "      <th>99995</th>\n",
       "      <td>880</td>\n",
       "      <td>476</td>\n",
       "      <td>3</td>\n",
       "      <td>880175444</td>\n",
       "    </tr>\n",
       "    <tr>\n",
       "      <th>99996</th>\n",
       "      <td>716</td>\n",
       "      <td>204</td>\n",
       "      <td>5</td>\n",
       "      <td>879795543</td>\n",
       "    </tr>\n",
       "    <tr>\n",
       "      <th>99997</th>\n",
       "      <td>276</td>\n",
       "      <td>1090</td>\n",
       "      <td>1</td>\n",
       "      <td>874795795</td>\n",
       "    </tr>\n",
       "    <tr>\n",
       "      <th>99998</th>\n",
       "      <td>13</td>\n",
       "      <td>225</td>\n",
       "      <td>2</td>\n",
       "      <td>882399156</td>\n",
       "    </tr>\n",
       "    <tr>\n",
       "      <th>99999</th>\n",
       "      <td>12</td>\n",
       "      <td>203</td>\n",
       "      <td>3</td>\n",
       "      <td>879959583</td>\n",
       "    </tr>\n",
       "  </tbody>\n",
       "</table>\n",
       "<p>100000 rows × 4 columns</p>\n",
       "</div>"
      ],
      "text/plain": [
       "       user_id  movie_id  rating       time\n",
       "0          196       242       3  881250949\n",
       "1          186       302       3  891717742\n",
       "2           22       377       1  878887116\n",
       "3          244        51       2  880606923\n",
       "4          166       346       1  886397596\n",
       "5          298       474       4  884182806\n",
       "6          115       265       2  881171488\n",
       "7          253       465       5  891628467\n",
       "8          305       451       3  886324817\n",
       "9            6        86       3  883603013\n",
       "10          62       257       2  879372434\n",
       "11         286      1014       5  879781125\n",
       "12         200       222       5  876042340\n",
       "13         210        40       3  891035994\n",
       "14         224        29       3  888104457\n",
       "15         303       785       3  879485318\n",
       "16         122       387       5  879270459\n",
       "17         194       274       2  879539794\n",
       "18         291      1042       4  874834944\n",
       "19         234      1184       2  892079237\n",
       "20         119       392       4  886176814\n",
       "21         167       486       4  892738452\n",
       "22         299       144       4  877881320\n",
       "23         291       118       2  874833878\n",
       "24         308         1       4  887736532\n",
       "25          95       546       2  879196566\n",
       "26          38        95       5  892430094\n",
       "27         102       768       2  883748450\n",
       "28          63       277       4  875747401\n",
       "29         160       234       5  876861185\n",
       "...        ...       ...     ...        ...\n",
       "99970      449       120       1  879959573\n",
       "99971      661       762       2  876037121\n",
       "99972      721       874       3  877137447\n",
       "99973      821       151       4  874792889\n",
       "99974      764       596       3  876243046\n",
       "99975      537       443       3  886031752\n",
       "99976      618       628       2  891308019\n",
       "99977      487       291       3  883445079\n",
       "99978      113       975       5  875936424\n",
       "99979      943       391       2  888640291\n",
       "99980      864       685       4  888891900\n",
       "99981      750       323       3  879445877\n",
       "99982      279        64       1  875308510\n",
       "99983      646       750       3  888528902\n",
       "99984      654       370       2  887863914\n",
       "99985      617       582       4  883789294\n",
       "99986      913       690       3  880824288\n",
       "99987      660       229       2  891406212\n",
       "99988      421       498       4  892241344\n",
       "99989      495      1091       4  888637503\n",
       "99990      806       421       4  882388897\n",
       "99991      676       538       4  892685437\n",
       "99992      721       262       3  877137285\n",
       "99993      913       209       2  881367150\n",
       "99994      378        78       3  880056976\n",
       "99995      880       476       3  880175444\n",
       "99996      716       204       5  879795543\n",
       "99997      276      1090       1  874795795\n",
       "99998       13       225       2  882399156\n",
       "99999       12       203       3  879959583\n",
       "\n",
       "[100000 rows x 4 columns]"
      ]
     },
     "execution_count": 75,
     "metadata": {},
     "output_type": "execute_result"
    }
   ],
   "source": [
    "data"
   ]
  },
  {
   "cell_type": "markdown",
   "metadata": {
    "collapsed": false
   },
   "source": [
    "# Part 4"
   ]
  },
  {
   "cell_type": "code",
   "execution_count": 18,
   "metadata": {
    "collapsed": false
   },
   "outputs": [],
   "source": [
    "W_1 = R.copy()\n",
    "R_1 = W.copy()"
   ]
  },
  {
   "cell_type": "code",
   "execution_count": 20,
   "metadata": {
    "collapsed": false
   },
   "outputs": [
    {
     "name": "stdout",
     "output_type": "stream",
     "text": [
      "('min error:', 128477.50258650996)\n",
      "('min error:', 86856.191143467178)\n",
      "('min error:', 59139.928507367258)\n",
      "('min error:', 2068.8359238835428)\n"
     ]
    }
   ],
   "source": [
    "m, n = R_1.shape\n",
    "n_iterations = 100\n",
    "min_error = np.inf\n",
    "lmbda = 0.1\n",
    "for k in (10, 50, 100, 500):\n",
    "    U = 5 * np.random.rand(m, k)\n",
    "    V = 5 * np.random.rand(k, n)\n",
    "    errors = []\n",
    "    for it in range(n_iterations):\n",
    "        U = np.linalg.solve(np.dot(V, V.T), np.dot(V, R_1.T)).T\n",
    "        V = np.linalg.solve(np.dot(U.T, U), np.dot(U.T, R_1)) \n",
    "        error = get_error(R_1, U, V, W_1)                \n",
    "        errors.append(error)\n",
    "        \n",
    "        # find the R_hat with min error\n",
    "        if error<min_error:\n",
    "            min_error = error\n",
    "            R_hat = np.dot(U, V)\n",
    "\n",
    "    print(\"min error:\", min_error)\n",
    "#     plt.plot(errors)\n",
    "#     plt.title(\"k = %d\" % k)\n",
    "#     plt.ylabel(\"Mean Squared Error\")\n",
    "#     plt.xlabel(\"Iteration\")\n",
    "#     plt.show()"
   ]
  },
  {
   "cell_type": "code",
   "execution_count": 22,
   "metadata": {
    "collapsed": false
   },
   "outputs": [
    {
     "name": "stdout",
     "output_type": "stream",
     "text": [
      "('min error:', 129037.43007387281)\n",
      "('min error:', 87380.972282393632)\n",
      "('min error:', 59645.385795781098)\n",
      "('min error:', 2219.8296832031606)\n"
     ]
    }
   ],
   "source": [
    "m, n = R_1.shape\n",
    "n_iterations = 100\n",
    "min_error = np.inf\n",
    "lmbda = 0.1\n",
    "for k in (10, 50, 100, 500):\n",
    "    U = 5 * np.random.rand(m, k)\n",
    "    V = 5 * np.random.rand(k, n)\n",
    "    errors = []\n",
    "    for it in range(n_iterations):\n",
    "        U = np.linalg.solve(np.dot(V, V.T) + lmbda * np.eye(k), np.dot(V, R_1.T)).T\n",
    "        V = np.linalg.solve(np.dot(U.T, U) + lmbda * np.eye(k), np.dot(U.T, R_1)) \n",
    "        error = get_error(R_1, U, V, W_1)                \n",
    "        errors.append(error)\n",
    "        \n",
    "        # find the R_hat with min error\n",
    "        if error<min_error:\n",
    "            min_error = error\n",
    "            R_hat = np.dot(U, V)\n",
    "\n",
    "    print(\"min error:\", min_error)"
   ]
  },
  {
   "cell_type": "code",
   "execution_count": 23,
   "metadata": {
    "collapsed": false
   },
   "outputs": [
    {
     "name": "stdout",
     "output_type": "stream",
     "text": [
      "('min error:', 129016.50576889928)\n",
      "('min error:', 87340.230121819623)\n",
      "('min error:', 59533.835787389493)\n",
      "('min error:', 2129.8590687931305)\n"
     ]
    }
   ],
   "source": [
    "m, n = R_1.shape\n",
    "n_iterations = 100\n",
    "min_error = np.inf\n",
    "lmbda = 0.01\n",
    "for k in (10, 50, 100, 500):\n",
    "    U = 5 * np.random.rand(m, k)\n",
    "    V = 5 * np.random.rand(k, n)\n",
    "    errors = []\n",
    "    for it in range(n_iterations):\n",
    "        U = np.linalg.solve(np.dot(V, V.T) + lmbda * np.eye(k), np.dot(V, R_1.T)).T\n",
    "        V = np.linalg.solve(np.dot(U.T, U) + lmbda * np.eye(k), np.dot(U.T, R_1)) \n",
    "        error = get_error(R_1, U, V, W_1)                \n",
    "        errors.append(error)\n",
    "        \n",
    "        # find the R_hat with min error\n",
    "        if error<min_error:\n",
    "            min_error = error\n",
    "            R_hat = np.dot(U, V)\n",
    "\n",
    "    print(\"min error:\", min_error)"
   ]
  },
  {
   "cell_type": "code",
   "execution_count": 24,
   "metadata": {
    "collapsed": false
   },
   "outputs": [
    {
     "name": "stdout",
     "output_type": "stream",
     "text": [
      "('min error:', 129895.74084478374)\n",
      "('min error:', 89135.495839196999)\n",
      "('min error:', 62027.170955719601)\n",
      "('min error:', 4461.7285549647422)\n"
     ]
    }
   ],
   "source": [
    "m, n = R_1.shape\n",
    "n_iterations = 100\n",
    "min_error = np.inf\n",
    "lmbda = 1\n",
    "for k in (10, 50, 100, 500):\n",
    "    U = 5 * np.random.rand(m, k)\n",
    "    V = 5 * np.random.rand(k, n)\n",
    "    errors = []\n",
    "    for it in range(n_iterations):\n",
    "        U = np.linalg.solve(np.dot(V, V.T) + lmbda * np.eye(k), np.dot(V, R_1.T)).T\n",
    "        V = np.linalg.solve(np.dot(U.T, U) + lmbda * np.eye(k), np.dot(U.T, R_1)) \n",
    "        error = get_error(R_1, U, V, W_1)                \n",
    "        errors.append(error)\n",
    "        \n",
    "        # find the R_hat with min error\n",
    "        if error<min_error:\n",
    "            min_error = error\n",
    "            R_hat = np.dot(U, V)\n",
    "\n",
    "    print(\"min error:\", min_error)"
   ]
  },
  {
   "cell_type": "code",
   "execution_count": null,
   "metadata": {
    "collapsed": true
   },
   "outputs": [],
   "source": []
  }
 ],
 "metadata": {
  "anaconda-cloud": {},
  "kernelspec": {
   "display_name": "Python 2",
   "language": "python",
   "name": "python2"
  },
  "language_info": {
   "codemirror_mode": {
    "name": "ipython",
    "version": 2
   },
   "file_extension": ".py",
   "mimetype": "text/x-python",
   "name": "python",
   "nbconvert_exporter": "python",
   "pygments_lexer": "ipython2",
   "version": "2.7.13"
  }
 },
 "nbformat": 4,
 "nbformat_minor": 1
}
