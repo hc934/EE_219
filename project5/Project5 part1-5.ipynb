{
 "cells": [
  {
   "cell_type": "code",
   "execution_count": 8,
   "metadata": {
    "collapsed": false
   },
   "outputs": [],
   "source": [
    "%matplotlib inline\n",
    "import matplotlib.pyplot as plt\n",
    "import json\n",
    "import datetime, time\n",
    "import numpy as np\n",
    "import statsmodels.api as sm\n",
    "from sets import Set\n",
    "from dateutil.parser import *\n",
    "from sklearn.model_selection import KFold\n"
   ]
  },
  {
   "cell_type": "markdown",
   "metadata": {},
   "source": [
    "## Load tweets"
   ]
  },
  {
   "cell_type": "code",
   "execution_count": 30,
   "metadata": {
    "collapsed": false
   },
   "outputs": [
    {
     "name": "stdout",
     "output_type": "stream",
     "text": [
      "259024\n",
      "{u'firstpost_date': 1419999683, u'author': 2928895689, u'user_allposts': 5, u'mention': 0, u'followers': 33, u'urls': 0, u'user_create': u'Thu Dec 18 03:45:13 +0000 2014', u'retweet': 1}\n"
     ]
    }
   ],
   "source": [
    "f = open('tweet_data/reduced_#nfl')\n",
    "\n",
    "# Make sure to go back to file head\n",
    "f_start = f.tell()\n",
    "f.seek(f_start)\n",
    "\n",
    "tweet_nfl = []\n",
    "\n",
    "for line in f.readlines():\n",
    "    tweet = json.loads(line)\n",
    "    tweet_nfl.append(tweet)\n",
    "print len(tweet_nfl)\n",
    "print tweet_nfl[0]"
   ]
  },
  {
   "cell_type": "code",
   "execution_count": 31,
   "metadata": {
    "collapsed": false
   },
   "outputs": [
    {
     "name": "stdout",
     "output_type": "stream",
     "text": [
      "1348767\n",
      "{u'firstpost_date': 1419866833, u'author': 2374402878, u'user_allposts': 552, u'mention': 0, u'followers': 294, u'urls': 0, u'user_create': u'Wed Mar 05 22:06:15 +0000 2014', u'retweet': 1}\n"
     ]
    }
   ],
   "source": [
    "f = open('tweet_data/reduced_#superbowl')\n",
    "\n",
    "# Make sure to go back to file head\n",
    "f_start = f.tell()\n",
    "f.seek(f_start)\n",
    "\n",
    "tweet_superbowl = []\n",
    "\n",
    "for line in f.readlines():\n",
    "    tweet = json.loads(line)\n",
    "    tweet_superbowl.append(tweet)\n",
    "print len(tweet_superbowl)\n",
    "print tweet_superbowl[0]"
   ]
  },
  {
   "cell_type": "code",
   "execution_count": 44,
   "metadata": {
    "collapsed": false
   },
   "outputs": [
    {
     "name": "stdout",
     "output_type": "stream",
     "text": [
      "826951\n",
      "489713\n",
      "26232\n",
      "188136\n"
     ]
    }
   ],
   "source": [
    "# load #sb49\n",
    "f = open('tweet_data/reduced_#sb49')\n",
    "f_start = f.tell()\n",
    "f.seek(f_start)\n",
    "tweet_sb49 = []\n",
    "\n",
    "for line in f.readlines():\n",
    "    tweet = json.loads(line)\n",
    "    tweet_sb49.append(tweet)\n",
    "print len(tweet_sb49)\n",
    "\n",
    "# load #patriots\n",
    "f = open('tweet_data/reduced_#patriots')\n",
    "f_start = f.tell()\n",
    "f.seek(f_start)\n",
    "tweet_patriots = []\n",
    "\n",
    "for line in f.readlines():\n",
    "    tweet = json.loads(line)\n",
    "    tweet_patriots.append(tweet)\n",
    "print len(tweet_patriots)\n",
    "\n",
    "# load #gopatriots\n",
    "f = open('tweet_data/reduced_#gopatriots')\n",
    "f_start = f.tell()\n",
    "f.seek(f_start)\n",
    "tweet_gopatriots = []\n",
    "\n",
    "for line in f.readlines():\n",
    "    tweet = json.loads(line)\n",
    "    tweet_gopatriots.append(tweet)\n",
    "print len(tweet_gopatriots)\n",
    "\n",
    "# load #gohawks\n",
    "f = open('tweet_data/reduced_#gohawks')\n",
    "f_start = f.tell()\n",
    "f.seek(f_start)\n",
    "tweet_gohawks = []\n",
    "\n",
    "for line in f.readlines():\n",
    "    tweet = json.loads(line)\n",
    "    tweet_gohawks.append(tweet)\n",
    "print len(tweet_gohawks)"
   ]
  },
  {
   "cell_type": "markdown",
   "metadata": {},
   "source": [
    "## Calculate Statistics"
   ]
  },
  {
   "cell_type": "code",
   "execution_count": 176,
   "metadata": {
    "collapsed": true
   },
   "outputs": [],
   "source": [
    "def avg_no_of_tweets_hour(tweets):\n",
    "    num_of_retweets = []\n",
    "    num_of_followers = []\n",
    "    mintime = tweets[0]['firstpost_date']\n",
    "    maxtime = tweets[-1]['firstpost_date']\n",
    "    num_hours = int((maxtime-mintime)/3600)\n",
    "    num_tweets_in_hour = [0]*num_hours\n",
    "    num_tweets = len(tweets)\n",
    "    for i in range(0,num_tweets):\n",
    "        tweet = tweets[i]\n",
    "        \n",
    "        num_of_retweets.append(tweet['retweet'])\n",
    "        num_of_followers.append(tweet['followers'])\n",
    "        \n",
    "        tweet_time = tweet['firstpost_date']\n",
    "        if tweet_time >= mintime:\n",
    "            hour = int((tweet_time-mintime)/3600)\n",
    "            if hour >= num_hours:\n",
    "                break;\n",
    "            num_tweets_in_hour[hour] += 1\n",
    "    return num_tweets_in_hour,num_of_followers,num_of_retweets"
   ]
  },
  {
   "cell_type": "code",
   "execution_count": 186,
   "metadata": {
    "collapsed": false
   },
   "outputs": [
    {
     "name": "stdout",
     "output_type": "stream",
     "text": [
      "gopatriots\n",
      "38.4055636896\n",
      "1602.00987344\n",
      "0.0240164684355\n",
      "gohawks\n",
      "193.554526749\n",
      "2393.58231279\n",
      "0.0473912488838\n",
      "patriots\n",
      "499.706122449\n",
      "3641.68836645\n",
      "0.0510870652811\n",
      "sb49\n",
      "1420.85051546\n",
      "10230.2115605\n",
      "0.183835266574\n",
      "nfl\n",
      "279.719222462\n",
      "4763.38063323\n",
      "0.0246929785616\n",
      "superbowl\n",
      "1402.04054054\n",
      "9958.05477978\n",
      "0.120150004004\n"
     ]
    }
   ],
   "source": [
    "num_tweets_in_hour,num_of_followers,num_of_retweets = avg_no_of_tweets_hour(tweet_gopatriots)\n",
    "print \"gopatriots\"\n",
    "print np.mean(np.array(num_tweets_in_hour))\n",
    "print np.mean(np.array(num_of_followers))\n",
    "print np.mean(np.array(num_of_retweets))\n",
    "\n",
    "num_tweets_in_hour,num_of_followers,num_of_retweets = avg_no_of_tweets_hour(tweet_gohawks)\n",
    "print \"gohawks\"\n",
    "print np.mean(np.array(num_tweets_in_hour))\n",
    "print np.mean(np.array(num_of_followers))\n",
    "print np.mean(np.array(num_of_retweets))\n",
    "\n",
    "num_tweets_in_hour,num_of_followers,num_of_retweets = avg_no_of_tweets_hour(tweet_patriots)\n",
    "print \"patriots\"\n",
    "print np.mean(np.array(num_tweets_in_hour))\n",
    "print np.mean(np.array(num_of_followers))\n",
    "print np.mean(np.array(num_of_retweets))\n",
    "\n",
    "num_tweets_in_hour,num_of_followers,num_of_retweets = avg_no_of_tweets_hour(tweet_sb49)\n",
    "print \"sb49\"\n",
    "print np.mean(np.array(num_tweets_in_hour))\n",
    "print np.mean(np.array(num_of_followers))\n",
    "print np.mean(np.array(num_of_retweets))\n",
    "\n",
    "num_tweets_in_hour,num_of_followers,num_of_retweets = avg_no_of_tweets_hour(tweet_nfl)\n",
    "print \"nfl\"\n",
    "print np.mean(np.array(num_tweets_in_hour))\n",
    "print np.mean(np.array(num_of_followers))\n",
    "print np.mean(np.array(num_of_retweets))\n",
    "\n",
    "num_tweets_in_hour,num_of_followers,num_of_retweets = avg_no_of_tweets_hour(tweet_superbowl)\n",
    "print \"superbowl\"\n",
    "print np.mean(np.array(num_tweets_in_hour))\n",
    "print np.mean(np.array(num_of_followers))\n",
    "print np.mean(np.array(num_of_retweets))"
   ]
  },
  {
   "cell_type": "markdown",
   "metadata": {},
   "source": [
    "### Plot \"number of tweets in hour\" over time for #NFL & #SuperBowl"
   ]
  },
  {
   "cell_type": "code",
   "execution_count": 5,
   "metadata": {
    "collapsed": false
   },
   "outputs": [
    {
     "name": "stdout",
     "output_type": "stream",
     "text": [
      "926\n"
     ]
    }
   ],
   "source": [
    "mintime = tweet_nfl[0]['firstpost_date']\n",
    "maxtime = tweet_nfl[-1]['firstpost_date']\n",
    "num_hours = int((maxtime-mintime)/3600)\n",
    "num_tweets_in_hour = [0]*num_hours\n",
    "\n",
    "for i in range(0,len(tweet_nfl)):\n",
    "    tweet = tweet_nfl[i]\n",
    "    tweet_time = tweet['firstpost_date']\n",
    "    if tweet_time >= mintime:\n",
    "        hour = int((tweet_time-mintime)/3600)\n",
    "        if hour >= num_hours:\n",
    "            break;\n",
    "        num_tweets_in_hour[hour] += 1\n",
    "print len(num_tweets_in_hour)"
   ]
  },
  {
   "cell_type": "code",
   "execution_count": 18,
   "metadata": {
    "collapsed": false
   },
   "outputs": [
    {
     "name": "stdout",
     "output_type": "stream",
     "text": [
      "962\n"
     ]
    }
   ],
   "source": [
    "mintime = tweet_superbowl[0]['firstpost_date']\n",
    "maxtime = tweet_superbowl[-1]['firstpost_date']\n",
    "num_hours = int((maxtime-mintime)/3600)\n",
    "num_tweets_in_hour_spb = [0]*num_hours\n",
    "\n",
    "for i in range(0,len(tweet_superbowl)):\n",
    "    tweet = tweet_superbowl[i]\n",
    "    tweet_time = tweet['firstpost_date']\n",
    "    if tweet_time >= mintime:\n",
    "        hour = int((tweet_time-mintime)/3600)\n",
    "        if hour >= num_hours:\n",
    "            break;\n",
    "        num_tweets_in_hour_spb[hour] += 1\n",
    "print len(num_tweets_in_hour_spb)"
   ]
  },
  {
   "cell_type": "code",
   "execution_count": 16,
   "metadata": {
    "collapsed": false
   },
   "outputs": [
    {
     "data": {
      "image/png": "[encoded data removed]",
      "text/plain": [
       "<matplotlib.figure.Figure at 0x12ed32f10>"
      ]
     },
     "metadata": {},
     "output_type": "display_data"
    }
   ],
   "source": [
    "plt.figure(figsize=(15, 8))\n",
    "plt.bar(range(len(num_tweets_in_hour)), num_tweets_in_hour)\n",
    "plt.title(\"Number of Tweets in hour for #NFL\")\n",
    "plt.ylabel(\"Number of tweets\")\n",
    "plt.xlabel(\"Hours\")\n",
    "\n",
    "plt.show()"
   ]
  },
  {
   "cell_type": "code",
   "execution_count": 19,
   "metadata": {
    "collapsed": false
   },
   "outputs": [
    {
     "data": {
      "image/png": "[encoded data removed]",
      "text/plain": [
       "<matplotlib.figure.Figure at 0x1960fbf50>"
      ]
     },
     "metadata": {},
     "output_type": "display_data"
    }
   ],
   "source": [
    "plt.figure(figsize=(15, 8))\n",
    "plt.bar(range(len(num_tweets_in_hour_spb)), num_tweets_in_hour_spb)\n",
    "plt.title(\"Number of Tweets in hour for #SuperBowl\")\n",
    "plt.ylabel(\"Number of tweets\")\n",
    "plt.xlabel(\"Hours\")\n",
    "\n",
    "plt.show()"
   ]
  },
  {
   "cell_type": "markdown",
   "metadata": {},
   "source": [
    "## Extract Features"
   ]
  },
  {
   "cell_type": "code",
   "execution_count": 191,
   "metadata": {
    "collapsed": true
   },
   "outputs": [],
   "source": [
    "def extract_features(mintime,maxtime,tweets):\n",
    "    date_reference = datetime.datetime(2015,01,01, 0,0,0)\n",
    "    time_reference = int(time.mktime(date_reference.timetuple()))\n",
    "    \n",
    "    num_hours = int((maxtime-mintime)/3600)\n",
    "    num_tweets_in_hour = [0]*num_hours\t\t\t# number of tweets in the hour\n",
    "    num_retweets_in_hour = [0]*num_hours\t\t# number of retweets in the hour\n",
    "    sum_followers = [0]*num_hours\t\t\t\t# sum of the number of followers of users posting tweets in the hour\n",
    "    max_followers = [0]*num_hours\t\t\t\t# max number of followers for the users posting tweets in the hour\n",
    "\n",
    "    num_authors_in_hour = [0]*num_hours\n",
    "    sum_mentions = [0]*num_hours # sum of the number of mentions in tweets in the hour\n",
    "    sum_urls = [0]*num_hours # ratio of tweets with url\n",
    "    active_users = [0]*num_hours # average number of tweets posted by a user per day, the smaller the more active\n",
    "\n",
    "    time_of_day = [0]*num_hours\n",
    "    mintime_daytime = int((mintime-time_reference)/3600) % 24\n",
    "    for t in range(0,num_hours):\n",
    "        time_of_day[t] = mintime_daytime + t\n",
    "    \n",
    "    author_set = Set([])\n",
    "    prev_hour = -1\n",
    "    for i in range(0,len(tweets)):\n",
    "        tweet = tweets[i]\n",
    "        tweet_time = tweet['firstpost_date']\n",
    "        if tweet_time >= mintime:\n",
    "            hour = int((tweet_time-mintime)/3600)\n",
    "            if hour >= num_hours:\n",
    "                break;\n",
    "            if hour > prev_hour: \n",
    "                if prev_hour == -1: # set first hour\n",
    "                    prev_hour = hour\n",
    "                else: # next hour\n",
    "                    num_authors_in_hour[prev_hour] = len(author_set)\n",
    "                    author_set = Set([])\n",
    "                    prev_hour = hour\n",
    "\n",
    "            num_tweets_in_hour[hour] += 1\n",
    "            try:\n",
    "                num_retweets_in_hour[hour] += tweet['retweet']\n",
    "            except:\n",
    "                pass\n",
    "            sum_followers[hour] += tweet['followers']\n",
    "            max_followers[hour] = max(max_followers[hour], tweet['followers'])\n",
    "\n",
    "            author_set.add(tweet['author'])\n",
    "            sum_mentions[hour] += tweet['mention']\n",
    "            sum_urls[hour] += tweet['urls']\n",
    "\n",
    "            t1 = int(time.mktime(parse(tweet['user_create']).timetuple()))\n",
    "            if ((tweet_time - t1)/(3600*24)) / float(1+tweet['user_allposts']) < 1: # very active\n",
    "                active_users[hour] += 1\n",
    "\n",
    "    num_tweets_in_hour_1 = [x+1 for x in num_tweets_in_hour]\n",
    "    url_ratios = np.array(sum_urls, dtype=np.float) / np.array(num_tweets_in_hour_1, dtype=np.float)\n",
    "    author_ratios = np.array(num_authors_in_hour, dtype=np.float) / np.array(num_tweets_in_hour_1, dtype=np.float)\n",
    "    mention_ratios = np.array(sum_mentions, dtype=np.float) / np.array(num_tweets_in_hour_1, dtype=np.float)\n",
    "    \n",
    "    y = num_tweets_in_hour[1:]\n",
    "    x_5 = [num_tweets_in_hour[0:-1] , num_retweets_in_hour[0:-1] , sum_followers[0:-1] , max_followers[0:-1] , time_of_day[0:-1]]\n",
    "    x_all = [num_tweets_in_hour[0:-1], num_retweets_in_hour[0:-1], sum_followers[0:-1], max_followers[0:-1], time_of_day[0:-1],\n",
    "        num_authors_in_hour[0:-1], sum_mentions[0:-1], url_ratios[0:-1], active_users[0:-1],\n",
    "         author_ratios[0:-1], mention_ratios[0:-1],\n",
    "        ]\n",
    "\n",
    "#     ones = np.ones(len(x_5[0]))\n",
    "#     X_5 = sm.add_constant(np.column_stack((x_5[0], ones)))\n",
    "#     X_all = sm.add_constant(np.column_stack((x_all[0], ones)))\n",
    "#     for ele in x_5[1:]:\n",
    "#         X_5 = sm.add_constant(np.column_stack((ele, X_5)))\n",
    "#     for ele in x_all[1:]:\n",
    "#         X_all = sm.add_constant(np.column_stack((ele, X_all)))\n",
    "    \n",
    "#     return x_5,x_all, y\n",
    "    return x_all, y"
   ]
  },
  {
   "cell_type": "markdown",
   "metadata": {
    "collapsed": true
   },
   "source": [
    "## Fit Models"
   ]
  },
  {
   "cell_type": "code",
   "execution_count": 58,
   "metadata": {
    "collapsed": true
   },
   "outputs": [],
   "source": [
    "def reg_m(y, x):\n",
    "    ones = np.ones(len(x[0]))\n",
    "    X = sm.add_constant(np.column_stack((x[0], ones)))\n",
    "    for ele in x[1:]:\n",
    "        X = sm.add_constant(np.column_stack((ele, X)))\n",
    "    results = sm.regression.linear_model.OLS(y, X).fit()\n",
    "    return results"
   ]
  },
  {
   "cell_type": "markdown",
   "metadata": {},
   "source": [
    "### #NFL"
   ]
  },
  {
   "cell_type": "code",
   "execution_count": 59,
   "metadata": {
    "collapsed": false
   },
   "outputs": [
    {
     "name": "stdout",
     "output_type": "stream",
     "text": [
      "extracting features\n",
      "5\n",
      "11\n"
     ]
    }
   ],
   "source": [
    "start_date = datetime.datetime(2015,01,30, 4,0,0)\n",
    "end_date = datetime.datetime(2015,02,03, 0,0,0)\n",
    "mintime = int(time.mktime(start_date.timetuple()))\n",
    "maxtime = int(time.mktime(end_date.timetuple()))\n",
    "\n",
    "print (\"extracting features\")\n",
    "X_nfl_5, X_nfl_all, y_nfl = extract_features(mintime,maxtime,tweet_nfl)\n",
    "print len(X_nfl_5)\n",
    "print len(X_nfl_all)"
   ]
  },
  {
   "cell_type": "code",
   "execution_count": 60,
   "metadata": {
    "collapsed": false
   },
   "outputs": [
    {
     "name": "stdout",
     "output_type": "stream",
     "text": [
      "                            OLS Regression Results                            \n",
      "==============================================================================\n",
      "Dep. Variable:                      y   R-squared:                       0.540\n",
      "Model:                            OLS   Adj. R-squared:                  0.513\n",
      "Method:                 Least Squares   F-statistic:                     19.98\n",
      "Date:                Tue, 21 Mar 2017   Prob (F-statistic):           4.04e-13\n",
      "Time:                        03:35:54   Log-Likelihood:                -782.33\n",
      "No. Observations:                  91   AIC:                             1577.\n",
      "Df Residuals:                      85   BIC:                             1592.\n",
      "Df Model:                           5                                         \n",
      "Covariance Type:            nonrobust                                         \n",
      "==============================================================================\n",
      "                 coef    std err          t      P>|t|      [95.0% Conf. Int.]\n",
      "------------------------------------------------------------------------------\n",
      "x1             4.4695      5.563      0.803      0.424        -6.592    15.531\n",
      "x2            -0.0002      0.000     -1.068      0.289        -0.001     0.000\n",
      "x3             0.0001   8.45e-05      1.555      0.124     -3.67e-05     0.000\n",
      "x4            -6.4870      5.089     -1.275      0.206       -16.605     3.631\n",
      "x5             0.5634      0.523      1.077      0.285        -0.477     1.604\n",
      "const        -43.4907    357.501     -0.122      0.903      -754.299   667.317\n",
      "==============================================================================\n",
      "Omnibus:                       85.949   Durbin-Watson:                   2.379\n",
      "Prob(Omnibus):                  0.000   Jarque-Bera (JB):             1951.689\n",
      "Skew:                           2.522   Prob(JB):                         0.00\n",
      "Kurtosis:                      25.120   Cond. No.                     2.75e+07\n",
      "==============================================================================\n",
      "\n",
      "Warnings:\n",
      "[1] Standard Errors assume that the covariance matrix of the errors is correctly specified.\n",
      "[2] The condition number is large, 2.75e+07. This might indicate that there are\n",
      "strong multicollinearity or other numerical problems.\n"
     ]
    }
   ],
   "source": [
    "model_nfl_5 = reg_m(y_nfl,X_nfl_5)\n",
    "print model_nfl_5.summary()"
   ]
  },
  {
   "cell_type": "code",
   "execution_count": 61,
   "metadata": {
    "collapsed": false
   },
   "outputs": [
    {
     "name": "stdout",
     "output_type": "stream",
     "text": [
      "                            OLS Regression Results                            \n",
      "==============================================================================\n",
      "Dep. Variable:                      y   R-squared:                       0.733\n",
      "Model:                            OLS   Adj. R-squared:                  0.695\n",
      "Method:                 Least Squares   F-statistic:                     19.68\n",
      "Date:                Tue, 21 Mar 2017   Prob (F-statistic):           2.37e-18\n",
      "Time:                        03:36:21   Log-Likelihood:                -757.66\n",
      "No. Observations:                  91   AIC:                             1539.\n",
      "Df Residuals:                      79   BIC:                             1569.\n",
      "Df Model:                          11                                         \n",
      "Covariance Type:            nonrobust                                         \n",
      "==============================================================================\n",
      "                 coef    std err          t      P>|t|      [95.0% Conf. Int.]\n",
      "------------------------------------------------------------------------------\n",
      "x1         -3459.5773   1991.417     -1.737      0.086     -7423.393   504.239\n",
      "x2          6874.6520   1928.084      3.566      0.001      3036.897  1.07e+04\n",
      "x3            -6.6996      5.270     -1.271      0.207       -17.190     3.791\n",
      "x4         -2568.5943   1146.490     -2.240      0.028     -4850.625  -286.564\n",
      "x5             3.1299      2.416      1.295      0.199        -1.679     7.939\n",
      "x6            -8.1715      2.043     -3.999      0.000       -12.238    -4.104\n",
      "x7             3.3801      5.742      0.589      0.558        -8.050    14.810\n",
      "x8             0.0001      0.000      0.830      0.409        -0.000     0.000\n",
      "x9         -3.587e-05   7.59e-05     -0.472      0.638        -0.000     0.000\n",
      "x10          -15.9329      7.865     -2.026      0.046       -31.587    -0.278\n",
      "x11           12.0686      5.827      2.071      0.042         0.470    23.667\n",
      "const      -2174.3253   1884.758     -1.154      0.252     -5925.843  1577.192\n",
      "==============================================================================\n",
      "Omnibus:                      118.504   Durbin-Watson:                   1.767\n",
      "Prob(Omnibus):                  0.000   Jarque-Bera (JB):             3435.904\n",
      "Skew:                           4.178   Prob(JB):                         0.00\n",
      "Kurtosis:                      31.920   Cond. No.                     2.70e+08\n",
      "==============================================================================\n",
      "\n",
      "Warnings:\n",
      "[1] Standard Errors assume that the covariance matrix of the errors is correctly specified.\n",
      "[2] The condition number is large, 2.7e+08. This might indicate that there are\n",
      "strong multicollinearity or other numerical problems.\n"
     ]
    }
   ],
   "source": [
    "model_nfl_all = reg_m(y_nfl,X_nfl_all)\n",
    "print model_nfl_all.summary()"
   ]
  },
  {
   "cell_type": "code",
   "execution_count": 226,
   "metadata": {
    "collapsed": false
   },
   "outputs": [
    {
     "data": {
      "image/png": "[encoded data removed]",
      "text/plain": [
       "<matplotlib.figure.Figure at 0x11f003250>"
      ]
     },
     "metadata": {},
     "output_type": "display_data"
    },
    {
     "data": {
      "image/png": "[encoded data removed]",
      "text/plain": [
       "<matplotlib.figure.Figure at 0x11f0aac50>"
      ]
     },
     "metadata": {},
     "output_type": "display_data"
    },
    {
     "data": {
      "image/png": "[encoded data removed]",
      "text/plain": [
       "<matplotlib.figure.Figure at 0x11f138110>"
      ]
     },
     "metadata": {},
     "output_type": "display_data"
    }
   ],
   "source": [
    "# plot best three features\n",
    "plt.gca().scatter(y_nfl,X_nfl_all[5])\n",
    "plt.xlabel('Feature : Unique Authors Count')\n",
    "plt.ylabel('Tweets for next hour')\n",
    "plt.show()\n",
    "\n",
    "plt.gca().scatter(y_nfl,X_nfl_all[10])\n",
    "plt.xlabel('Feature : Unique Authors Count Ratio')\n",
    "plt.ylabel('Tweets for next hour')\n",
    "plt.show()\n",
    "\n",
    "plt.gca().scatter(y_nfl,X_nfl_all[7])\n",
    "plt.xlabel('Feature : Url Ratios')\n",
    "plt.ylabel('Tweets for next hour')\n",
    "plt.show()"
   ]
  },
  {
   "cell_type": "markdown",
   "metadata": {},
   "source": [
    "### #SuperBowl"
   ]
  },
  {
   "cell_type": "code",
   "execution_count": 67,
   "metadata": {
    "collapsed": false
   },
   "outputs": [
    {
     "name": "stdout",
     "output_type": "stream",
     "text": [
      "extracting features\n",
      "5\n",
      "11\n"
     ]
    }
   ],
   "source": [
    "start_date = datetime.datetime(2015,01,30, 4,0,0)\n",
    "end_date = datetime.datetime(2015,02,03, 0,0,0)\n",
    "mintime = int(time.mktime(start_date.timetuple()))\n",
    "maxtime = int(time.mktime(end_date.timetuple()))\n",
    "\n",
    "print (\"extracting features\")\n",
    "X_superbowl_5, X_superbowl_all, y_superbowl = extract_features(mintime,maxtime,tweet_superbowl)\n",
    "print len(X_superbowl_5)\n",
    "print len(X_superbowl_all)"
   ]
  },
  {
   "cell_type": "code",
   "execution_count": 70,
   "metadata": {
    "collapsed": false
   },
   "outputs": [
    {
     "name": "stdout",
     "output_type": "stream",
     "text": [
      "                            OLS Regression Results                            \n",
      "==============================================================================\n",
      "Dep. Variable:                      y   R-squared:                       0.815\n",
      "Model:                            OLS   Adj. R-squared:                  0.804\n",
      "Method:                 Least Squares   F-statistic:                     74.67\n",
      "Date:                Tue, 21 Mar 2017   Prob (F-statistic):           1.28e-29\n",
      "Time:                        03:52:11   Log-Likelihood:                -1025.4\n",
      "No. Observations:                  91   AIC:                             2063.\n",
      "Df Residuals:                      85   BIC:                             2078.\n",
      "Df Model:                           5                                         \n",
      "Covariance Type:            nonrobust                                         \n",
      "==============================================================================\n",
      "                 coef    std err          t      P>|t|      [95.0% Conf. Int.]\n",
      "------------------------------------------------------------------------------\n",
      "x1            10.1934     79.305      0.129      0.898      -147.487   167.874\n",
      "x2            -0.0001      0.000     -0.251      0.802        -0.001     0.001\n",
      "x3             0.0002   8.52e-05      2.049      0.044       5.2e-06     0.000\n",
      "x4            -9.5260      1.138     -8.372      0.000       -11.788    -7.264\n",
      "x5             1.0491      0.543      1.931      0.057        -0.031     2.129\n",
      "const      -5014.5849   4964.620     -1.010      0.315     -1.49e+04  4856.410\n",
      "==============================================================================\n",
      "Omnibus:                      119.252   Durbin-Watson:                   2.037\n",
      "Prob(Omnibus):                  0.000   Jarque-Bera (JB):             6864.342\n",
      "Skew:                           3.829   Prob(JB):                         0.00\n",
      "Kurtosis:                      44.854   Cond. No.                     8.44e+08\n",
      "==============================================================================\n",
      "\n",
      "Warnings:\n",
      "[1] Standard Errors assume that the covariance matrix of the errors is correctly specified.\n",
      "[2] The condition number is large, 8.44e+08. This might indicate that there are\n",
      "strong multicollinearity or other numerical problems.\n",
      "                            OLS Regression Results                            \n",
      "==============================================================================\n",
      "Dep. Variable:                      y   R-squared:                       0.882\n",
      "Model:                            OLS   Adj. R-squared:                  0.866\n",
      "Method:                 Least Squares   F-statistic:                     53.82\n",
      "Date:                Tue, 21 Mar 2017   Prob (F-statistic):           4.57e-32\n",
      "Time:                        03:52:11   Log-Likelihood:                -1004.8\n",
      "No. Observations:                  91   AIC:                             2034.\n",
      "Df Residuals:                      79   BIC:                             2064.\n",
      "Df Model:                          11                                         \n",
      "Covariance Type:            nonrobust                                         \n",
      "==============================================================================\n",
      "                 coef    std err          t      P>|t|      [95.0% Conf. Int.]\n",
      "------------------------------------------------------------------------------\n",
      "x1         -3.163e+04   2.27e+04     -1.391      0.168     -7.69e+04  1.36e+04\n",
      "x2         -2.449e+04   5.07e+04     -0.483      0.630     -1.25e+05  7.65e+04\n",
      "x3             6.6516      5.895      1.128      0.263        -5.082    18.386\n",
      "x4         -1.259e+04   2.39e+04     -0.527      0.600     -6.02e+04   3.5e+04\n",
      "x5            12.2371      2.731      4.480      0.000         6.800    17.674\n",
      "x6             0.3462      1.097      0.316      0.753        -1.837     2.529\n",
      "x7          -125.9787     89.016     -1.415      0.161      -303.160    51.203\n",
      "x8            -0.0006      0.000     -1.263      0.210        -0.001     0.000\n",
      "x9          6.866e-05   7.53e-05      0.911      0.365     -8.13e-05     0.000\n",
      "x10          -12.9696      1.585     -8.181      0.000       -16.125    -9.814\n",
      "x11           -6.3333      4.666     -1.357      0.179       -15.620     2.954\n",
      "const       4.492e+04   5.05e+04      0.890      0.376     -5.55e+04  1.45e+05\n",
      "==============================================================================\n",
      "Omnibus:                      132.032   Durbin-Watson:                   1.963\n",
      "Prob(Omnibus):                  0.000   Jarque-Bera (JB):             5465.405\n",
      "Skew:                           4.833   Prob(JB):                         0.00\n",
      "Kurtosis:                      39.715   Cond. No.                     1.46e+10\n",
      "==============================================================================\n",
      "\n",
      "Warnings:\n",
      "[1] Standard Errors assume that the covariance matrix of the errors is correctly specified.\n",
      "[2] The condition number is large, 1.46e+10. This might indicate that there are\n",
      "strong multicollinearity or other numerical problems.\n"
     ]
    }
   ],
   "source": [
    "model = reg_m(y_superbowl, X_superbowl_5)\n",
    "print model.summary()\n",
    "\n",
    "model = reg_m(y_superbowl, X_superbowl_all)\n",
    "print model.summary()"
   ]
  },
  {
   "cell_type": "code",
   "execution_count": 230,
   "metadata": {
    "collapsed": false
   },
   "outputs": [
    {
     "data": {
      "image/png": "[encoded data removed]",
      "text/plain": [
       "<matplotlib.figure.Figure at 0x11f0b3bd0>"
      ]
     },
     "metadata": {},
     "output_type": "display_data"
    },
    {
     "data": {
      "image/png": "[encoded data removed]",
      "text/plain": [
       "<matplotlib.figure.Figure at 0x11ee90990>"
      ]
     },
     "metadata": {},
     "output_type": "display_data"
    },
    {
     "data": {
      "image/png": "[encoded data removed]",
      "text/plain": [
       "<matplotlib.figure.Figure at 0x1205dcd10>"
      ]
     },
     "metadata": {},
     "output_type": "display_data"
    }
   ],
   "source": [
    "# plot best three features\n",
    "plt.gca().scatter(y_nfl,X_superbowl_all[1])\n",
    "plt.xlabel('Feature : Retweets Count')\n",
    "plt.ylabel('Tweets for next hour')\n",
    "plt.show()\n",
    "\n",
    "plt.gca().scatter(y_nfl,X_superbowl_all[6])\n",
    "plt.xlabel('Feature : Mentions Count')\n",
    "plt.ylabel('Tweets for next hour')\n",
    "plt.show()\n",
    "\n",
    "plt.gca().scatter(y_nfl,X_superbowl_all[4])\n",
    "plt.xlabel('Feature : Time of the Day')\n",
    "plt.ylabel('Tweets for next hour')\n",
    "plt.show()"
   ]
  },
  {
   "cell_type": "markdown",
   "metadata": {},
   "source": [
    "### #Patriots"
   ]
  },
  {
   "cell_type": "code",
   "execution_count": 45,
   "metadata": {
    "collapsed": false
   },
   "outputs": [
    {
     "name": "stdout",
     "output_type": "stream",
     "text": [
      "extracting features\n",
      "                            OLS Regression Results                            \n",
      "==============================================================================\n",
      "Dep. Variable:                      y   R-squared:                       0.713\n",
      "Model:                            OLS   Adj. R-squared:                  0.696\n",
      "Method:                 Least Squares   F-statistic:                     42.21\n",
      "Date:                Tue, 21 Mar 2017   Prob (F-statistic):           1.24e-21\n",
      "Time:                        03:12:04   Log-Likelihood:                -915.10\n",
      "No. Observations:                  91   AIC:                             1842.\n",
      "Df Residuals:                      85   BIC:                             1857.\n",
      "Df Model:                           5                                         \n",
      "Covariance Type:            nonrobust                                         \n",
      "==============================================================================\n",
      "                 coef    std err          t      P>|t|      [95.0% Conf. Int.]\n",
      "------------------------------------------------------------------------------\n",
      "x1            12.8537     24.113      0.533      0.595       -35.089    60.797\n",
      "x2             0.0008      0.000      1.639      0.105        -0.000     0.002\n",
      "x3            -0.0003   7.45e-05     -4.695      0.000        -0.000    -0.000\n",
      "x4            11.3493      3.030      3.746      0.000         5.325    17.374\n",
      "x5             1.0299      0.093     11.061      0.000         0.845     1.215\n",
      "const         95.5119   1306.086      0.073      0.942     -2501.336  2692.360\n",
      "==============================================================================\n",
      "Omnibus:                      135.032   Durbin-Watson:                   1.751\n",
      "Prob(Omnibus):                  0.000   Jarque-Bera (JB):             5236.795\n",
      "Skew:                           5.083   Prob(JB):                         0.00\n",
      "Kurtosis:                      38.746   Cond. No.                     5.83e+07\n",
      "==============================================================================\n",
      "\n",
      "Warnings:\n",
      "[1] Standard Errors assume that the covariance matrix of the errors is correctly specified.\n",
      "[2] The condition number is large, 5.83e+07. This might indicate that there are\n",
      "strong multicollinearity or other numerical problems.\n",
      "                            OLS Regression Results                            \n",
      "==============================================================================\n",
      "Dep. Variable:                      y   R-squared:                       0.792\n",
      "Model:                            OLS   Adj. R-squared:                  0.763\n",
      "Method:                 Least Squares   F-statistic:                     27.41\n",
      "Date:                Tue, 21 Mar 2017   Prob (F-statistic):           1.54e-22\n",
      "Time:                        03:12:04   Log-Likelihood:                -900.35\n",
      "No. Observations:                  91   AIC:                             1825.\n",
      "Df Residuals:                      79   BIC:                             1855.\n",
      "Df Model:                          11                                         \n",
      "Covariance Type:            nonrobust                                         \n",
      "==============================================================================\n",
      "                 coef    std err          t      P>|t|      [95.0% Conf. Int.]\n",
      "------------------------------------------------------------------------------\n",
      "x1           2.07e+04   4044.193      5.118      0.000      1.26e+04  2.87e+04\n",
      "x2         -1.014e+04   7665.619     -1.323      0.190     -2.54e+04  5116.637\n",
      "x3             3.3981      1.792      1.896      0.062        -0.169     6.965\n",
      "x4          -953.6929   5527.943     -0.173      0.863      -1.2e+04     1e+04\n",
      "x5            -0.3442      0.572     -0.602      0.549        -1.482     0.794\n",
      "x6             1.2451      4.267      0.292      0.771        -7.248     9.738\n",
      "x7            -9.6143     22.659     -0.424      0.672       -54.716    35.488\n",
      "x8             0.0006      0.001      1.009      0.316        -0.001     0.002\n",
      "x9            -0.0002      0.000     -0.717      0.475        -0.001     0.000\n",
      "x10            9.6201      5.444      1.767      0.081        -1.215    20.455\n",
      "x11           -2.8788      4.788     -0.601      0.549       -12.409     6.651\n",
      "const       2761.9635   7933.387      0.348      0.729      -1.3e+04  1.86e+04\n",
      "==============================================================================\n",
      "Omnibus:                       54.024   Durbin-Watson:                   1.735\n",
      "Prob(Omnibus):                  0.000   Jarque-Bera (JB):              355.039\n",
      "Skew:                           1.679   Prob(JB):                     8.02e-78\n",
      "Kurtosis:                      12.076   Cond. No.                     5.75e+08\n",
      "==============================================================================\n",
      "\n",
      "Warnings:\n",
      "[1] Standard Errors assume that the covariance matrix of the errors is correctly specified.\n",
      "[2] The condition number is large, 5.75e+08. This might indicate that there are\n",
      "strong multicollinearity or other numerical problems.\n"
     ]
    }
   ],
   "source": [
    "start_date = datetime.datetime(2015,01,30, 4,0,0)\n",
    "end_date = datetime.datetime(2015,02,03, 0,0,0)\n",
    "mintime = int(time.mktime(start_date.timetuple()))\n",
    "maxtime = int(time.mktime(end_date.timetuple()))\n",
    "\n",
    "print (\"extracting features\")\n",
    "X_5, X_all, y = extract_features(mintime,maxtime,tweet_patriots)\n",
    "\n",
    "model = sm.regression.linear_model.OLS(y, X_5).fit()\n",
    "print model.summary()\n",
    "\n",
    "model = sm.regression.linear_model.OLS(y, X_all).fit()\n",
    "print model.summary()"
   ]
  },
  {
   "cell_type": "markdown",
   "metadata": {},
   "source": [
    "### #SB49"
   ]
  },
  {
   "cell_type": "code",
   "execution_count": 46,
   "metadata": {
    "collapsed": false
   },
   "outputs": [
    {
     "name": "stdout",
     "output_type": "stream",
     "text": [
      "extracting features\n",
      "                            OLS Regression Results                            \n",
      "==============================================================================\n",
      "Dep. Variable:                      y   R-squared:                       0.788\n",
      "Model:                            OLS   Adj. R-squared:                  0.775\n",
      "Method:                 Least Squares   F-statistic:                     63.09\n",
      "Date:                Tue, 21 Mar 2017   Prob (F-statistic):           3.79e-27\n",
      "Time:                        03:17:45   Log-Likelihood:                -977.66\n",
      "No. Observations:                  91   AIC:                             1967.\n",
      "Df Residuals:                      85   BIC:                             1982.\n",
      "Df Model:                           5                                         \n",
      "Covariance Type:            nonrobust                                         \n",
      "==============================================================================\n",
      "                 coef    std err          t      P>|t|      [95.0% Conf. Int.]\n",
      "------------------------------------------------------------------------------\n",
      "x1             4.7311     47.392      0.100      0.921       -89.496    98.959\n",
      "x2          -6.94e-07      0.000     -0.003      0.997        -0.000     0.000\n",
      "x3          2.786e-05   3.29e-05      0.847      0.399     -3.76e-05  9.33e-05\n",
      "x4            -1.2602      0.929     -1.357      0.178        -3.107     0.586\n",
      "x5             0.9249      0.092     10.035      0.000         0.742     1.108\n",
      "const        131.7442   2749.067      0.048      0.962     -5334.137  5597.625\n",
      "==============================================================================\n",
      "Omnibus:                      141.789   Durbin-Watson:                   1.693\n",
      "Prob(Omnibus):                  0.000   Jarque-Bera (JB):             7037.302\n",
      "Skew:                           5.398   Prob(JB):                         0.00\n",
      "Kurtosis:                      44.707   Cond. No.                     5.03e+08\n",
      "==============================================================================\n",
      "\n",
      "Warnings:\n",
      "[1] Standard Errors assume that the covariance matrix of the errors is correctly specified.\n",
      "[2] The condition number is large, 5.03e+08. This might indicate that there are\n",
      "strong multicollinearity or other numerical problems.\n",
      "                            OLS Regression Results                            \n",
      "==============================================================================\n",
      "Dep. Variable:                      y   R-squared:                       0.844\n",
      "Model:                            OLS   Adj. R-squared:                  0.822\n",
      "Method:                 Least Squares   F-statistic:                     38.80\n",
      "Date:                Tue, 21 Mar 2017   Prob (F-statistic):           2.64e-27\n",
      "Time:                        03:17:45   Log-Likelihood:                -963.70\n",
      "No. Observations:                  91   AIC:                             1951.\n",
      "Df Residuals:                      79   BIC:                             1982.\n",
      "Df Model:                          11                                         \n",
      "Covariance Type:            nonrobust                                         \n",
      "==============================================================================\n",
      "                 coef    std err          t      P>|t|      [95.0% Conf. Int.]\n",
      "------------------------------------------------------------------------------\n",
      "x1          2.454e+04   9024.706      2.719      0.008      6575.419  4.25e+04\n",
      "x2          2.212e+04   2.78e+04      0.796      0.428     -3.32e+04  7.74e+04\n",
      "x3            -0.0132      1.753     -0.008      0.994        -3.501     3.475\n",
      "x4         -2278.5592   1.26e+04     -0.180      0.857     -2.74e+04  2.29e+04\n",
      "x5             1.0864      0.712      1.527      0.131        -0.330     2.503\n",
      "x6            -3.6684      3.876     -0.946      0.347       -11.383     4.046\n",
      "x7            59.1532     46.059      1.284      0.203       -32.526   150.832\n",
      "x8            -0.0002      0.000     -0.909      0.366        -0.001     0.000\n",
      "x9             0.0001   5.83e-05      2.058      0.043      3.94e-06     0.000\n",
      "x10           -2.0957      2.468     -0.849      0.398        -7.008     2.817\n",
      "x11            1.9936      3.144      0.634      0.528        -4.264     8.252\n",
      "const      -4.039e+04   2.41e+04     -1.675      0.098     -8.84e+04  7615.165\n",
      "==============================================================================\n",
      "Omnibus:                      127.392   Durbin-Watson:                   1.574\n",
      "Prob(Omnibus):                  0.000   Jarque-Bera (JB):             4279.173\n",
      "Skew:                           4.657   Prob(JB):                         0.00\n",
      "Kurtosis:                      35.277   Cond. No.                     7.49e+09\n",
      "==============================================================================\n",
      "\n",
      "Warnings:\n",
      "[1] Standard Errors assume that the covariance matrix of the errors is correctly specified.\n",
      "[2] The condition number is large, 7.49e+09. This might indicate that there are\n",
      "strong multicollinearity or other numerical problems.\n"
     ]
    }
   ],
   "source": [
    "start_date = datetime.datetime(2015,01,30, 4,0,0)\n",
    "end_date = datetime.datetime(2015,02,03, 0,0,0)\n",
    "mintime = int(time.mktime(start_date.timetuple()))\n",
    "maxtime = int(time.mktime(end_date.timetuple()))\n",
    "\n",
    "print (\"extracting features\")\n",
    "X_5, X_all, y = extract_features(mintime,maxtime,tweet_sb49)\n",
    "\n",
    "model = sm.regression.linear_model.OLS(y, X_5).fit()\n",
    "print model.summary()\n",
    "\n",
    "model = sm.regression.linear_model.OLS(y, X_all).fit()\n",
    "print model.summary()"
   ]
  },
  {
   "cell_type": "markdown",
   "metadata": {},
   "source": [
    "### #GoPatriots"
   ]
  },
  {
   "cell_type": "code",
   "execution_count": 47,
   "metadata": {
    "collapsed": false
   },
   "outputs": [
    {
     "name": "stdout",
     "output_type": "stream",
     "text": [
      "extracting features\n",
      "                            OLS Regression Results                            \n",
      "==============================================================================\n",
      "Dep. Variable:                      y   R-squared:                       0.681\n",
      "Model:                            OLS   Adj. R-squared:                  0.662\n",
      "Method:                 Least Squares   F-statistic:                     36.30\n",
      "Date:                Tue, 21 Mar 2017   Prob (F-statistic):           1.01e-19\n",
      "Time:                        03:22:57   Log-Likelihood:                -676.89\n",
      "No. Observations:                  91   AIC:                             1366.\n",
      "Df Residuals:                      85   BIC:                             1381.\n",
      "Df Model:                           5                                         \n",
      "Covariance Type:            nonrobust                                         \n",
      "==============================================================================\n",
      "                 coef    std err          t      P>|t|      [95.0% Conf. Int.]\n",
      "------------------------------------------------------------------------------\n",
      "x1             1.2053      1.727      0.698      0.487        -2.229     4.639\n",
      "x2            -0.0003      0.001     -0.413      0.680        -0.002     0.001\n",
      "x3             0.0007      0.000      1.817      0.073     -6.43e-05     0.001\n",
      "x4            36.5485     12.891      2.835      0.006        10.917    62.180\n",
      "x5            -0.7771      0.480     -1.620      0.109        -1.731     0.176\n",
      "const        -17.6345     95.494     -0.185      0.854      -207.502   172.233\n",
      "==============================================================================\n",
      "Omnibus:                       55.024   Durbin-Watson:                   2.550\n",
      "Prob(Omnibus):                  0.000   Jarque-Bera (JB):             1325.443\n",
      "Skew:                           1.148   Prob(JB):                    1.53e-288\n",
      "Kurtosis:                      21.555   Cond. No.                     2.28e+06\n",
      "==============================================================================\n",
      "\n",
      "Warnings:\n",
      "[1] Standard Errors assume that the covariance matrix of the errors is correctly specified.\n",
      "[2] The condition number is large, 2.28e+06. This might indicate that there are\n",
      "strong multicollinearity or other numerical problems.\n",
      "                            OLS Regression Results                            \n",
      "==============================================================================\n",
      "Dep. Variable:                      y   R-squared:                       0.897\n",
      "Model:                            OLS   Adj. R-squared:                  0.882\n",
      "Method:                 Least Squares   F-statistic:                     62.32\n",
      "Date:                Tue, 21 Mar 2017   Prob (F-statistic):           2.83e-34\n",
      "Time:                        03:22:57   Log-Likelihood:                -625.61\n",
      "No. Observations:                  91   AIC:                             1275.\n",
      "Df Residuals:                      79   BIC:                             1305.\n",
      "Df Model:                          11                                         \n",
      "Covariance Type:            nonrobust                                         \n",
      "==============================================================================\n",
      "                 coef    std err          t      P>|t|      [95.0% Conf. Int.]\n",
      "------------------------------------------------------------------------------\n",
      "x1          -137.4433    106.436     -1.291      0.200      -349.300    74.413\n",
      "x2           -10.5337    140.831     -0.075      0.941      -290.850   269.783\n",
      "x3           -11.5681      4.530     -2.554      0.013       -20.585    -2.552\n",
      "x4            84.5955    165.730      0.510      0.611      -245.282   414.473\n",
      "x5            14.1710      1.187     11.938      0.000        11.808    16.534\n",
      "x6           -19.1579      2.946     -6.502      0.000       -25.022   -13.293\n",
      "x7            -1.1910      1.095     -1.087      0.280        -3.371     0.989\n",
      "x8            -0.0019      0.001     -3.737      0.000        -0.003    -0.001\n",
      "x9             0.0015      0.000      5.319      0.000         0.001     0.002\n",
      "x10         -107.5686     21.741     -4.948      0.000      -150.842   -64.295\n",
      "x11           23.1620      5.787      4.002      0.000        11.643    34.681\n",
      "const         67.3981     89.723      0.751      0.455      -111.192   245.988\n",
      "==============================================================================\n",
      "Omnibus:                       29.054   Durbin-Watson:                   1.772\n",
      "Prob(Omnibus):                  0.000   Jarque-Bera (JB):              368.034\n",
      "Skew:                           0.227   Prob(JB):                     1.21e-80\n",
      "Kurtosis:                      12.842   Cond. No.                     7.52e+06\n",
      "==============================================================================\n",
      "\n",
      "Warnings:\n",
      "[1] Standard Errors assume that the covariance matrix of the errors is correctly specified.\n",
      "[2] The condition number is large, 7.52e+06. This might indicate that there are\n",
      "strong multicollinearity or other numerical problems.\n"
     ]
    }
   ],
   "source": [
    "start_date = datetime.datetime(2015,01,30, 4,0,0)\n",
    "end_date = datetime.datetime(2015,02,03, 0,0,0)\n",
    "mintime = int(time.mktime(start_date.timetuple()))\n",
    "maxtime = int(time.mktime(end_date.timetuple()))\n",
    "\n",
    "print (\"extracting features\")\n",
    "X_5, X_all, y = extract_features(mintime,maxtime,tweet_gopatriots)\n",
    "\n",
    "model = sm.regression.linear_model.OLS(y, X_5).fit()\n",
    "print model.summary()\n",
    "\n",
    "model = sm.regression.linear_model.OLS(y, X_all).fit()\n",
    "print model.summary()"
   ]
  },
  {
   "cell_type": "markdown",
   "metadata": {},
   "source": [
    "#### draw plots for the rest"
   ]
  },
  {
   "cell_type": "code",
   "execution_count": 228,
   "metadata": {
    "collapsed": false
   },
   "outputs": [],
   "source": [
    "start_date = datetime.datetime(2015,01,30, 4,0,0)\n",
    "end_date = datetime.datetime(2015,02,03, 0,0,0)\n",
    "mintime = int(time.mktime(start_date.timetuple()))\n",
    "maxtime = int(time.mktime(end_date.timetuple()))\n",
    "\n",
    "X_all, y = extract_features(mintime,maxtime,tweet_nfl)"
   ]
  },
  {
   "cell_type": "code",
   "execution_count": 229,
   "metadata": {
    "collapsed": false
   },
   "outputs": [
    {
     "data": {
      "image/png": "[encoded data removed]",
      "text/plain": [
       "<matplotlib.figure.Figure at 0x11f196410>"
      ]
     },
     "metadata": {},
     "output_type": "display_data"
    },
    {
     "data": {
      "image/png": "[encoded data removed]",
      "text/plain": [
       "<matplotlib.figure.Figure at 0x12e5d1e10>"
      ]
     },
     "metadata": {},
     "output_type": "display_data"
    },
    {
     "data": {
      "image/png": "[encoded data removed]",
      "text/plain": [
       "<matplotlib.figure.Figure at 0x1d97c6dd0>"
      ]
     },
     "metadata": {},
     "output_type": "display_data"
    }
   ],
   "source": [
    "plt.gca().scatter(y,X_all[5])\n",
    "plt.xlabel('Feature : Unique Authors Count')\n",
    "plt.ylabel('Tweets for next hour')\n",
    "plt.show()\n",
    "\n",
    "plt.gca().scatter(y,X_all[10])\n",
    "plt.xlabel('Feature : Unique Authors Count Ratio')\n",
    "plt.ylabel('Tweets for next hour')\n",
    "plt.show()\n",
    "\n",
    "plt.gca().scatter(y,X_all[7])\n",
    "plt.xlabel('Feature : Url Ratios')\n",
    "plt.ylabel('Tweets for next hour')\n",
    "plt.show()"
   ]
  },
  {
   "cell_type": "markdown",
   "metadata": {},
   "source": [
    "## Cross Validation"
   ]
  },
  {
   "cell_type": "code",
   "execution_count": 187,
   "metadata": {
    "collapsed": true
   },
   "outputs": [],
   "source": [
    "def extract_features_cv(mintime,maxtime,tweets):\n",
    "    date_reference = datetime.datetime(2015,01,01, 0,0,0)\n",
    "    time_reference = int(time.mktime(date_reference.timetuple()))\n",
    "    \n",
    "    num_hours = int((maxtime-mintime)/3600)\n",
    "    num_tweets_in_hour = [0]*num_hours\t\t\t# number of tweets in the hour\n",
    "    num_retweets_in_hour = [0]*num_hours\t\t# number of retweets in the hour\n",
    "    sum_followers = [0]*num_hours\t\t\t\t# sum of the number of followers of users posting tweets in the hour\n",
    "    max_followers = [0]*num_hours\t\t\t\t# max number of followers for the users posting tweets in the hour\n",
    "\n",
    "    num_authors_in_hour = [0]*num_hours\n",
    "    sum_mentions = [0]*num_hours # sum of the number of mentions in tweets in the hour\n",
    "    sum_urls = [0]*num_hours # ratio of tweets with url\n",
    "    active_users = [0]*num_hours # average number of tweets posted by a user per day, the smaller the more active\n",
    "\n",
    "    time_of_day = [0]*num_hours\n",
    "    mintime_daytime = int((mintime-time_reference)/3600) % 24\n",
    "    for t in range(0,num_hours):\n",
    "        time_of_day[t] = mintime_daytime + t\n",
    "    \n",
    "    author_set = Set([])\n",
    "    prev_hour = -1\n",
    "    for i in range(0,len(tweets)):\n",
    "        tweet = tweets[i]\n",
    "        tweet_time = tweet['firstpost_date']\n",
    "        if tweet_time >= mintime:\n",
    "            hour = int((tweet_time-mintime)/3600)\n",
    "            if hour >= num_hours:\n",
    "                break;\n",
    "            if hour > prev_hour: \n",
    "                if prev_hour == -1: # set first hour\n",
    "                    prev_hour = hour\n",
    "                else: # next hour\n",
    "                    num_authors_in_hour[prev_hour] = len(author_set)\n",
    "                    author_set = Set([])\n",
    "                    prev_hour = hour\n",
    "\n",
    "            num_tweets_in_hour[hour] += 1\n",
    "            try:\n",
    "                num_retweets_in_hour[hour] += tweet['retweet']\n",
    "            except:\n",
    "                pass\n",
    "            sum_followers[hour] += tweet['followers']\n",
    "            max_followers[hour] = max(max_followers[hour], tweet['followers'])\n",
    "\n",
    "            author_set.add(tweet['author'])\n",
    "            sum_mentions[hour] += tweet['mention']\n",
    "            sum_urls[hour] += tweet['urls']\n",
    "\n",
    "            t1 = int(time.mktime(parse(tweet['user_create']).timetuple()))\n",
    "            if ((tweet_time - t1)/(3600*24)) / float(1+tweet['user_allposts']) < 1: # very active\n",
    "                active_users[hour] += 1\n",
    "\n",
    "    num_tweets_in_hour_1 = [x+1 for x in num_tweets_in_hour]\n",
    "    url_ratios = np.array(sum_urls, dtype=np.float) / np.array(num_tweets_in_hour_1, dtype=np.float)\n",
    "    author_ratios = np.array(num_authors_in_hour, dtype=np.float) / np.array(num_tweets_in_hour_1, dtype=np.float)\n",
    "    mention_ratios = np.array(sum_mentions, dtype=np.float) / np.array(num_tweets_in_hour_1, dtype=np.float)\n",
    "    \n",
    "    y = num_tweets_in_hour[1:]\n",
    "    x_all = [num_tweets_in_hour[0:-1], num_retweets_in_hour[0:-1], sum_followers[0:-1], max_followers[0:-1], time_of_day[0:-1],\n",
    "        num_authors_in_hour[0:-1], sum_mentions[0:-1], url_ratios[0:-1], active_users[0:-1],\n",
    "         author_ratios[0:-1], mention_ratios[0:-1],\n",
    "        ]\n",
    "\n",
    "    ones = np.ones(len(x_all[0]))\n",
    "    X_all = sm.add_constant(np.column_stack((x_all[0], ones)))\n",
    "    for ele in x_all[1:]:\n",
    "        X_all = sm.add_constant(np.column_stack((ele, X_all)))\n",
    "    \n",
    "    return X_all, y"
   ]
  },
  {
   "cell_type": "markdown",
   "metadata": {},
   "source": [
    "### CV ALL"
   ]
  },
  {
   "cell_type": "code",
   "execution_count": 93,
   "metadata": {
    "collapsed": true
   },
   "outputs": [],
   "source": [
    "def cv_all(tweets):\n",
    "    start_date = datetime.datetime(2015,01,30, 4,0,0)\n",
    "    end_date = datetime.datetime(2015,02,03, 0,0,0)\n",
    "    mintime = int(time.mktime(start_date.timetuple()))\n",
    "    maxtime = int(time.mktime(end_date.timetuple()))\n",
    "    X, y = extract_features_cv(mintime,maxtime,tweets)\n",
    "\n",
    "    # cross validation\n",
    "    cv_error = []\n",
    "    kf = KFold(n_splits=10)\n",
    "    for train_index, test_index in kf.split(X):\n",
    "        X_train, X_test = X[train_index], X[test_index]\n",
    "        y_train, y_test = np.array(y)[train_index], np.array(y)[test_index]\n",
    "\n",
    "        model = sm.regression.linear_model.OLS(y_train, X_train).fit()\n",
    "        params = model.params\n",
    "\n",
    "        predict = np.dot(X_test,params)\n",
    "        error = np.mean(np.abs(predict - y_test))\n",
    "        cv_error.append(error)\n",
    "    return np.mean(cv_error)"
   ]
  },
  {
   "cell_type": "code",
   "execution_count": 95,
   "metadata": {
    "collapsed": false
   },
   "outputs": [
    {
     "name": "stdout",
     "output_type": "stream",
     "text": [
      "gopatriots\n",
      "242.0089004\n",
      "gohawks\n",
      "1024.29925917\n",
      "patriots\n",
      "12252.2954763\n"
     ]
    }
   ],
   "source": [
    "print \"gopatriots\"\n",
    "print cv_all(tweet_gopatriots)\n",
    "print \"gohawks\"\n",
    "print cv_all(tweet_gohawks)\n",
    "print \"patriots\"\n",
    "print cv_all(tweet_patriots)"
   ]
  },
  {
   "cell_type": "code",
   "execution_count": 96,
   "metadata": {
    "collapsed": false
   },
   "outputs": [
    {
     "name": "stdout",
     "output_type": "stream",
     "text": [
      "sb49\n",
      "31143.1341096\n",
      "nfl\n",
      "909.18465763\n",
      "superbowl\n",
      "18498.1396723\n"
     ]
    }
   ],
   "source": [
    "print \"sb49\"\n",
    "print cv_all(tweet_sb49)\n",
    "print \"nfl\"\n",
    "print cv_all(tweet_nfl)\n",
    "print \"superbowl\"\n",
    "print cv_all(tweet_superbowl)"
   ]
  },
  {
   "cell_type": "markdown",
   "metadata": {},
   "source": [
    "### Split Data - NFL"
   ]
  },
  {
   "cell_type": "code",
   "execution_count": 77,
   "metadata": {
    "collapsed": false
   },
   "outputs": [
    {
     "name": "stdout",
     "output_type": "stream",
     "text": [
      "134549\n",
      "52209\n",
      "72266\n"
     ]
    }
   ],
   "source": [
    "time1 = 1422806400 #20150201 8:00am\n",
    "time2 = 1422849600 #20150201 8:00pm\n",
    "\n",
    "tweet_nfl_1 = []\n",
    "tweet_nfl_2 = []\n",
    "tweet_nfl_3 = []\n",
    "for i in range(0,len(tweet_nfl)):\n",
    "    tweet = tweet_nfl[i]\n",
    "    tweet_time = tweet['firstpost_date']\n",
    "    if tweet_time < time1: # first set\n",
    "        tweet_nfl_1.append(tweet)\n",
    "    elif tweet_time >= time1 and tweet_time < time2: # second set\n",
    "        tweet_nfl_2.append(tweet)\n",
    "    else: # third set\n",
    "        tweet_nfl_3.append(tweet)\n",
    "print len(tweet_nfl_1)\n",
    "print len(tweet_nfl_2)\n",
    "print len(tweet_nfl_3)"
   ]
  },
  {
   "cell_type": "code",
   "execution_count": 82,
   "metadata": {
    "collapsed": false
   },
   "outputs": [
    {
     "name": "stdout",
     "output_type": "stream",
     "text": [
      "371\n",
      "371\n"
     ]
    }
   ],
   "source": [
    "start_date = datetime.datetime(2015,01,16, 20,0,0)\n",
    "mintime = int(time.mktime(start_date.timetuple()))\n",
    "maxtime = 1422806400\n",
    "\n",
    "X, y = extract_features_cv(mintime,maxtime,tweet_nfl_1)\n",
    "print len(X)\n",
    "print len(y)"
   ]
  },
  {
   "cell_type": "code",
   "execution_count": 86,
   "metadata": {
    "collapsed": false
   },
   "outputs": [
    {
     "name": "stdout",
     "output_type": "stream",
     "text": [
      "fitting the model w. CV\n",
      "144.088069287\n"
     ]
    }
   ],
   "source": [
    "print (\"fitting the model w. CV\")\n",
    "\n",
    "# cross validation\n",
    "cv_error = []\n",
    "kf = KFold(n_splits=10)\n",
    "for train_index, test_index in kf.split(X):\n",
    "    X_train, X_test = X[train_index], X[test_index]\n",
    "    y_train, y_test = np.array(y)[train_index], np.array(y)[test_index]\n",
    "    \n",
    "    model = sm.regression.linear_model.OLS(y_train, X_train).fit()\n",
    "    params = model.params\n",
    "    \n",
    "    predict = np.dot(X_test,params)\n",
    "    error = np.mean(np.abs(predict - y_test))\n",
    "    cv_error.append(error)\n",
    "print np.mean(cv_error)"
   ]
  },
  {
   "cell_type": "code",
   "execution_count": 88,
   "metadata": {
    "collapsed": false
   },
   "outputs": [
    {
     "name": "stdout",
     "output_type": "stream",
     "text": [
      "11\n",
      "11\n",
      "#NFL period 2\n",
      "19897.8641416\n"
     ]
    }
   ],
   "source": [
    "mintime = 1422806400\n",
    "maxtime = 1422849600\n",
    "\n",
    "X_2, y_2 = extract_features_cv(mintime,maxtime,tweet_nfl_2)\n",
    "print len(X_2)\n",
    "print len(y_2)\n",
    "\n",
    "# cross validation\n",
    "cv_error = []\n",
    "kf = KFold(n_splits=10)\n",
    "for train_index, test_index in kf.split(X_2):\n",
    "    X_train, X_test = X_2[train_index], X_2[test_index]\n",
    "    y_train, y_test = np.array(y_2)[train_index], np.array(y_2)[test_index]\n",
    "    \n",
    "    model = sm.regression.linear_model.OLS(y_train, X_train).fit()\n",
    "    params = model.params\n",
    "    \n",
    "    predict = np.dot(X_test,params)\n",
    "    error = np.mean(np.abs(predict - y_test))\n",
    "    cv_error.append(error)\n",
    "print \"#NFL period 2\"\n",
    "print np.mean(cv_error)"
   ]
  },
  {
   "cell_type": "code",
   "execution_count": 89,
   "metadata": {
    "collapsed": false
   },
   "outputs": [
    {
     "data": {
      "text/plain": [
       "[1498.7136706639139,\n",
       " 9459.6277245943638,\n",
       " 1935.926369744604,\n",
       " 4759.9372871713931,\n",
       " 3967.4543350169552,\n",
       " 22236.755096739333,\n",
       " 34689.224762608297,\n",
       " 37139.683757730876,\n",
       " 21158.709847821694,\n",
       " 62132.608563969843]"
      ]
     },
     "execution_count": 89,
     "metadata": {},
     "output_type": "execute_result"
    }
   ],
   "source": [
    "cv_error"
   ]
  },
  {
   "cell_type": "code",
   "execution_count": 92,
   "metadata": {
    "collapsed": false
   },
   "outputs": [
    {
     "name": "stdout",
     "output_type": "stream",
     "text": [
      "27\n",
      "27\n",
      "#NFL period 3\n",
      "227.924025563\n"
     ]
    }
   ],
   "source": [
    "mintime = 1422849600\n",
    "end_date = datetime.datetime(2015,02,03, 0,0,0)\n",
    "maxtime = int(time.mktime(end_date.timetuple()))\n",
    "\n",
    "X_3, y_3 = extract_features_cv(mintime,maxtime,tweet_nfl_3)\n",
    "print len(X_3)\n",
    "print len(y_3)\n",
    "\n",
    "# cross validation\n",
    "cv_error = []\n",
    "kf = KFold(n_splits=10)\n",
    "for train_index, test_index in kf.split(X_3):\n",
    "    X_train, X_test = X_3[train_index], X_3[test_index]\n",
    "    y_train, y_test = np.array(y_3)[train_index], np.array(y_3)[test_index]\n",
    "    \n",
    "    model = sm.regression.linear_model.OLS(y_train, X_train).fit()\n",
    "    params = model.params\n",
    "    \n",
    "    predict = np.dot(X_test,params)\n",
    "    error = np.mean(np.abs(predict - y_test))\n",
    "    cv_error.append(error)\n",
    "print \"#NFL period 3\"\n",
    "print np.mean(cv_error)"
   ]
  },
  {
   "cell_type": "code",
   "execution_count": 203,
   "metadata": {
    "collapsed": true
   },
   "outputs": [],
   "source": [
    "def cv3(tweets):\n",
    "    # split tweets\n",
    "    time1 = 1422806400 #20150201 8:00am\n",
    "    time2 = 1422849600 #20150201 8:00pm\n",
    "\n",
    "    tweet_1 = []\n",
    "    tweet_2 = []\n",
    "    tweet_3 = []\n",
    "    for i in range(0,len(tweets)):\n",
    "        tweet = tweets[i]\n",
    "        tweet_time = tweet['firstpost_date']\n",
    "        if tweet_time < time1: # first set\n",
    "            tweet_1.append(tweet)\n",
    "        elif tweet_time >= time1 and tweet_time < time2: # second set\n",
    "            tweet_2.append(tweet)\n",
    "        else: # third set\n",
    "            tweet_3.append(tweet)\n",
    "#     print(\"Finish Split\")\n",
    "\n",
    "    # Period 1\n",
    "    start_date = datetime.datetime(2015,01,16, 20,0,0)\n",
    "    mintime = int(time.mktime(start_date.timetuple()))\n",
    "    maxtime = 1422806400\n",
    "\n",
    "    X, y = extract_features_cv(mintime,maxtime,tweet_1)\n",
    "\n",
    "    # cross validation\n",
    "    cv_error = []\n",
    "    kf = KFold(n_splits=10)\n",
    "    for train_index, test_index in kf.split(X):\n",
    "        X_train, X_test = X[train_index], X[test_index]\n",
    "        y_train, y_test = np.array(y)[train_index], np.array(y)[test_index]\n",
    "\n",
    "        model = sm.regression.linear_model.OLS(y_train, X_train).fit()\n",
    "        params = model.params\n",
    "\n",
    "        predict = np.dot(X_test,params)\n",
    "        error = np.mean(np.abs(predict - y_test))\n",
    "        cv_error.append(error)\n",
    "    print \"period 1\"\n",
    "    print np.mean(cv_error)\n",
    "    \n",
    "    # Period 2\n",
    "    mintime = 1422806400\n",
    "    maxtime = 1422849600\n",
    "\n",
    "    X_2, y_2 = extract_features_cv(mintime,maxtime,tweet_2)\n",
    "\n",
    "    # cross validation\n",
    "    cv_error = []\n",
    "    kf = KFold(n_splits=10)\n",
    "    for train_index, test_index in kf.split(X_2):\n",
    "        X_train, X_test = X_2[train_index], X_2[test_index]\n",
    "        y_train, y_test = np.array(y_2)[train_index], np.array(y_2)[test_index]\n",
    "\n",
    "        model = sm.regression.linear_model.OLS(y_train, X_train).fit()\n",
    "        params = model.params\n",
    "\n",
    "        predict = np.dot(X_test,params)\n",
    "        error = np.mean(np.abs(predict - y_test))\n",
    "        cv_error.append(error)\n",
    "    print \"period 2\"\n",
    "    print np.mean(cv_error)\n",
    "    \n",
    "    # Period 3\n",
    "    mintime = 1422849600\n",
    "    end_date = datetime.datetime(2015,02,03, 0,0,0)\n",
    "    maxtime = int(time.mktime(end_date.timetuple()))\n",
    "\n",
    "    X_3, y_3 = extract_features_cv(mintime,maxtime,tweet_3)\n",
    "\n",
    "    # cross validation\n",
    "    cv_error = []\n",
    "    kf = KFold(n_splits=10)\n",
    "    for train_index, test_index in kf.split(X_3):\n",
    "        X_train, X_test = X_3[train_index], X_3[test_index]\n",
    "        y_train, y_test = np.array(y_3)[train_index], np.array(y_3)[test_index]\n",
    "\n",
    "        model = sm.regression.linear_model.OLS(y_train, X_train).fit()\n",
    "        params = model.params\n",
    "\n",
    "        predict = np.dot(X_test,params)\n",
    "        error = np.mean(np.abs(predict - y_test))\n",
    "        cv_error.append(error)\n",
    "    print \"period 3\"\n",
    "    print np.mean(cv_error)"
   ]
  },
  {
   "cell_type": "code",
   "execution_count": 204,
   "metadata": {
    "collapsed": false
   },
   "outputs": [
    {
     "name": "stdout",
     "output_type": "stream",
     "text": [
      "#GoPatriots\n",
      "period 1\n",
      "19.9742713123\n",
      "period 2\n",
      "580.1852386\n",
      "period 3\n",
      "13.1817044747\n",
      "#GoHawks\n",
      "period 1\n",
      "360.631948326\n",
      "period 2\n",
      "6521.5199085\n",
      "period 3\n",
      "172.783272513\n",
      "#Patriots\n",
      "period 1\n",
      "271.489182564\n",
      "period 2\n",
      "40915.4144855\n",
      "period 3\n",
      "359.411204809\n",
      "#SB49\n",
      "period 1\n",
      "47.1728619683\n",
      "period 2\n",
      "367552.694034\n",
      "period 3\n",
      "533.426675642\n",
      "#SuperBowl\n",
      "period 1\n",
      "417.181398684\n",
      "period 2\n",
      "126008.327985\n",
      "period 3\n",
      "1130.441074\n"
     ]
    }
   ],
   "source": [
    "print \"#GoPatriots\"\n",
    "cv3(tweet_gopatriots)\n",
    "print \"#GoHawks\"\n",
    "cv3(tweet_gohawks)\n",
    "print \"#Patriots\"\n",
    "cv3(tweet_patriots)\n",
    "print \"#SB49\"\n",
    "cv3(tweet_sb49)\n",
    "print \"#SuperBowl\"\n",
    "cv3(tweet_superbowl)"
   ]
  },
  {
   "cell_type": "markdown",
   "metadata": {},
   "source": [
    "## Testing"
   ]
  },
  {
   "cell_type": "code",
   "execution_count": 162,
   "metadata": {
    "collapsed": false
   },
   "outputs": [],
   "source": [
    "def extract_features_test(mintime,tweets):\n",
    "    date_reference = datetime.datetime(2015,01,01, 0,0,0)\n",
    "    time_reference = int(time.mktime(date_reference.timetuple()))\n",
    "    \n",
    "#     num_hours = int((maxtime-mintime)/3600)\n",
    "    num_hours = 6\n",
    "    num_tweets_in_hour = [0]*num_hours\t\t\t# number of tweets in the hour\n",
    "    num_retweets_in_hour = [0]*num_hours\t\t# number of retweets in the hour\n",
    "    sum_followers = [0]*num_hours\t\t\t\t# sum of the number of followers of users posting tweets in the hour\n",
    "    max_followers = [0]*num_hours\t\t\t\t# max number of followers for the users posting tweets in the hour\n",
    "\n",
    "    num_authors_in_hour = [0]*num_hours\n",
    "    sum_mentions = [0]*num_hours # sum of the number of mentions in tweets in the hour\n",
    "    sum_urls = [0]*num_hours # ratio of tweets with url\n",
    "    active_users = [0]*num_hours # average number of tweets posted by a user per day, the smaller the more active\n",
    "\n",
    "    time_of_day = [0]*num_hours\n",
    "    mintime_daytime = int((mintime-time_reference)/3600) % 24\n",
    "    for t in range(0,num_hours):\n",
    "        time_of_day[t] = mintime_daytime + t\n",
    "    \n",
    "    author_set = Set([])\n",
    "    prev_hour = -1\n",
    "    for i in range(0,len(tweets)):\n",
    "        tweet = tweets[i]\n",
    "        tweet_time = tweet['firstpost_date']\n",
    "        if tweet_time >= mintime:\n",
    "            hour = int((tweet_time-mintime)/3600)\n",
    "            if hour >= num_hours:\n",
    "                break;\n",
    "            if hour > prev_hour: \n",
    "                if prev_hour == -1: # set first hour\n",
    "                    prev_hour = hour\n",
    "                else: # next hour\n",
    "                    num_authors_in_hour[prev_hour] = len(author_set)\n",
    "                    author_set = Set([])\n",
    "                    prev_hour = hour\n",
    "\n",
    "            num_tweets_in_hour[hour] += 1\n",
    "            try:\n",
    "                num_retweets_in_hour[hour] += tweet['retweet']\n",
    "            except:\n",
    "                pass\n",
    "            sum_followers[hour] += tweet['followers']\n",
    "            max_followers[hour] = max(max_followers[hour], tweet['followers'])\n",
    "\n",
    "            author_set.add(tweet['author'])\n",
    "            sum_mentions[hour] += tweet['mention']\n",
    "            sum_urls[hour] += tweet['urls']\n",
    "\n",
    "            t1 = int(time.mktime(parse(tweet['user_create']).timetuple()))\n",
    "            if ((tweet_time - t1)/(3600*24)) / float(1+tweet['user_allposts']) < 1: # very active\n",
    "                active_users[hour] += 1\n",
    "\n",
    "    num_tweets_in_hour_1 = [x+1 for x in num_tweets_in_hour]\n",
    "    url_ratios = np.array(sum_urls, dtype=np.float) / np.array(num_tweets_in_hour_1, dtype=np.float)\n",
    "    author_ratios = np.array(num_authors_in_hour, dtype=np.float) / np.array(num_tweets_in_hour_1, dtype=np.float)\n",
    "    mention_ratios = np.array(sum_mentions, dtype=np.float) / np.array(num_tweets_in_hour_1, dtype=np.float)\n",
    "    \n",
    "    y = num_tweets_in_hour[1:]\n",
    "    x_all = [num_tweets_in_hour, num_retweets_in_hour, sum_followers, max_followers, time_of_day,\n",
    "        num_authors_in_hour, sum_mentions, url_ratios, active_users,author_ratios, mention_ratios]\n",
    "\n",
    "    ones = np.ones(len(x_all[0]))\n",
    "    X_all = sm.add_constant(np.column_stack((x_all[0], ones)))\n",
    "    for ele in x_all[1:]:\n",
    "        X_all = sm.add_constant(np.column_stack((ele, X_all)))\n",
    "    \n",
    "    return X_all, y"
   ]
  },
  {
   "cell_type": "code",
   "execution_count": 164,
   "metadata": {
    "collapsed": false
   },
   "outputs": [
    {
     "name": "stdout",
     "output_type": "stream",
     "text": [
      "test loaded\n",
      "sample1_period1\n",
      "[ 186.73014979   85.46815171  255.43586276  140.71598302  147.4541229\n",
      "   54.69403283]\n",
      "[ 104.73014979   17.46815171  161.43586276   30.28401698   30.5458771\n",
      "   54.69403283]\n",
      "68.8928116684\n",
      "test loaded\n",
      "sample4_period1\n",
      "[ 481.42274051  271.86899331  220.58261289  276.45433769  292.56720168\n",
      "   25.53066158]\n",
      "[ 226.42274051   35.86899331   45.41738711    9.45433769   91.56720168\n",
      "   25.53066158]\n",
      "81.7461320606\n",
      "test loaded\n",
      "sample5_period1\n",
      "[ 336.6099213   354.68266932  381.83284601  319.27290981  243.75041776\n",
      "   19.18380314]\n",
      "[ 168.3900787     2.68266932   22.83284601   37.27290981   33.75041776\n",
      "   19.18380314]\n",
      "52.9857843225\n",
      "test loaded\n",
      "sample8_period1\n",
      "[  44.60973752   50.43165797   44.37578433   53.69948074   86.55163694\n",
      "  160.43353778]\n",
      "[  27.39026248    5.56834203    3.37578433   42.69948074   86.55163694\n",
      "  160.43353778]\n",
      "33.1171013048\n"
     ]
    }
   ],
   "source": [
    "period1 = ['sample1_period1','sample4_period1','sample5_period1','sample8_period1']\n",
    "\n",
    "# Model 1\n",
    "start_date = datetime.datetime(2015,01,25, 8,0,0)\n",
    "mintime = int(time.mktime(start_date.timetuple()))\n",
    "maxtime = 1422806400\n",
    "\n",
    "X, y = extract_features_cv(mintime,maxtime,tweet_nfl_1)\n",
    "model = sm.regression.linear_model.OLS(y, X).fit()\n",
    "params = model.params\n",
    "\n",
    "for test_file in period1:  \n",
    "    f = open('test_data/'+test_file)\n",
    "    f_start = f.tell()\n",
    "    f.seek(f_start)\n",
    "    test = []\n",
    "    for line in f.readlines():\n",
    "        tweet = json.loads(line)\n",
    "        test.append(tweet)\n",
    "    print \"test loaded\"\n",
    "\n",
    "    test_mintime = test[0]['firstpost_date']\n",
    "#     test_maxtime = test_mintime + 5*3600\n",
    "    X_test, y_test = extract_features_test(test_mintime,test)\n",
    "    y_test.append(0)\n",
    "    \n",
    "    predict = np.abs(np.dot(X_test,params))\n",
    "    error = np.abs(predict - y_test)\n",
    "#     error = np.mean(np.abs(predict - y_test))\n",
    "    print test_file\n",
    "    print predict\n",
    "    print error\n",
    "    print np.mean(error[0:-1])"
   ]
  },
  {
   "cell_type": "code",
   "execution_count": 165,
   "metadata": {
    "collapsed": false
   },
   "outputs": [
    {
     "name": "stdout",
     "output_type": "stream",
     "text": [
      "test loaded\n",
      "sample2_period2\n",
      "[  154707.40763404   233870.22383757   193058.63369346   264859.0089059\n",
      "  1109850.20644999   730960.6954812 ]\n",
      "[  145346.40763404   223496.22383757   172992.63369346   182901.0089059\n",
      "  1026927.20644999   730960.6954812 ]\n",
      "350332.696104\n",
      "test loaded\n",
      "sample6_period2\n",
      "[  3.23576156e+02   2.27036253e+06   1.45774004e+07   1.19964845e+07\n",
      "   8.65547043e+06   7.16897296e+06]\n",
      "[  1.26194238e+04   2.20973553e+06   1.45247054e+07   1.19554685e+07\n",
      "   8.61817743e+06   7.16897296e+06]\n",
      "7464141.26119\n",
      "test loaded\n",
      "sample9_period2\n",
      "[  45880.97526156   38745.78371448   30482.64170126   21839.31069379\n",
      "   60114.39143669  137772.90052153]\n",
      "[  44146.97526156   37126.78371448   28900.64170126   19982.31069379\n",
      "   57324.39143669  137772.90052153]\n",
      "37496.2205616\n"
     ]
    }
   ],
   "source": [
    "period2 = ['sample2_period2','sample6_period2','sample9_period2']\n",
    "\n",
    "# Model 2\n",
    "mintime = 1422806400\n",
    "maxtime = 1422849600\n",
    "\n",
    "X_2, y_2 = extract_features_cv(mintime,maxtime,tweet_nfl_2)\n",
    "model = sm.regression.linear_model.OLS(y_2, X_2).fit()\n",
    "params = model.params\n",
    "\n",
    "for test_file in period2:  \n",
    "    f = open('test_data/'+test_file)\n",
    "    f_start = f.tell()\n",
    "    f.seek(f_start)\n",
    "    test = []\n",
    "    for line in f.readlines():\n",
    "        tweet = json.loads(line)\n",
    "        test.append(tweet)\n",
    "    print \"test loaded\"\n",
    "\n",
    "    test_mintime = test[0]['firstpost_date']\n",
    "#     test_maxtime = 1422835199\n",
    "    X_test, y_test = extract_features_test(test_mintime,test)\n",
    "    y_test.append(0)\n",
    "    \n",
    "#     predict = model.predict(X_test)\n",
    "    predict = np.abs(np.dot(X_test,params))\n",
    "    error = np.abs(predict - y_test)\n",
    "    print test_file\n",
    "    print predict\n",
    "    print error\n",
    "    print np.mean(error[0:-1])"
   ]
  },
  {
   "cell_type": "code",
   "execution_count": 166,
   "metadata": {
    "collapsed": false
   },
   "outputs": [
    {
     "name": "stdout",
     "output_type": "stream",
     "text": [
      "test loaded\n",
      "sample3_period3\n",
      "[  608.97806003   697.76311941   844.93955211  1168.70304078   883.47519975\n",
      "   153.2812027 ]\n",
      "[  59.97806003   87.76311941   43.06044789  552.70304078  360.47519975\n",
      "  153.2812027 ]\n",
      "220.795973571\n",
      "test loaded\n",
      "sample7_period3\n",
      "[ 363.99788853  296.07698077  255.53400113  187.25127005  166.23787219\n",
      "  113.35154362]\n",
      "[ 261.99788853  230.07698077  195.53400113  132.25127005   46.23787219\n",
      "  113.35154362]\n",
      "173.219602533\n",
      "test loaded\n",
      "sample10_period3\n",
      "[ 240.74893815  276.56325433  271.69795476  200.78600987  209.88189383\n",
      "  167.71228842]\n",
      "[ 187.74893815  209.56325433  209.69795476  142.78600987  148.88189383\n",
      "  167.71228842]\n",
      "179.735610187\n"
     ]
    }
   ],
   "source": [
    "period3 = ['sample3_period3','sample7_period3','sample10_period3']\n",
    "\n",
    "# Model 3\n",
    "mintime = 1422849600\n",
    "end_date = datetime.datetime(2015,02,06, 0,0,0)\n",
    "maxtime = int(time.mktime(end_date.timetuple()))\n",
    "\n",
    "X_3, y_3 = extract_features_cv(mintime,maxtime,tweet_nfl_3)\n",
    "model = sm.regression.linear_model.OLS(y_3, X_3).fit()\n",
    "params = model.params\n",
    "\n",
    "for test_file in period3:  \n",
    "    f = open('test_data/'+test_file)\n",
    "    f_start = f.tell()\n",
    "    f.seek(f_start)\n",
    "    test = []\n",
    "    for line in f.readlines():\n",
    "        tweet = json.loads(line)\n",
    "        test.append(tweet)\n",
    "    print \"test loaded\"\n",
    "\n",
    "    test_mintime = test[0]['firstpost_date']\n",
    "#     test_maxtime = test_mintime + 6*3600\n",
    "    X_test, y_test = extract_features_test(test_mintime,test)\n",
    "    y_test.append(0)\n",
    "\n",
    "    predict = np.abs(np.dot(X_test,params))\n",
    "    error = np.abs(predict - y_test)\n",
    "    print test_file\n",
    "    print predict\n",
    "    print error\n",
    "    print np.mean(error[0:-1])"
   ]
  },
  {
   "cell_type": "markdown",
   "metadata": {},
   "source": [
    "### #SuperBowl"
   ]
  },
  {
   "cell_type": "code",
   "execution_count": 167,
   "metadata": {
    "collapsed": false
   },
   "outputs": [
    {
     "name": "stdout",
     "output_type": "stream",
     "text": [
      "215075\n",
      "1027317\n",
      "106375\n"
     ]
    }
   ],
   "source": [
    "time1 = 1422806400 #20150201 8:00am\n",
    "time2 = 1422849600 #20150201 8:00pm\n",
    "\n",
    "tweet_superbowl_1 = []\n",
    "tweet_superbowl_2 = []\n",
    "tweet_superbowl_3 = []\n",
    "for i in range(0,len(tweet_superbowl)):\n",
    "    tweet = tweet_superbowl[i]\n",
    "    tweet_time = tweet['firstpost_date']\n",
    "    if tweet_time < time1: # first set\n",
    "        tweet_superbowl_1.append(tweet)\n",
    "    elif tweet_time >= time1 and tweet_time < time2: # second set\n",
    "        tweet_superbowl_2.append(tweet)\n",
    "    else: # third set\n",
    "        tweet_superbowl_3.append(tweet)\n",
    "print len(tweet_superbowl_1)\n",
    "print len(tweet_superbowl_2)\n",
    "print len(tweet_superbowl_3)"
   ]
  },
  {
   "cell_type": "code",
   "execution_count": 168,
   "metadata": {
    "collapsed": false
   },
   "outputs": [
    {
     "name": "stdout",
     "output_type": "stream",
     "text": [
      "test loaded\n",
      "sample1_period1\n",
      "[ 143.88029067   78.7009343    19.79180105  250.65688216  350.52997122\n",
      "  943.1416225 ]\n",
      "[  61.88029067   10.7009343    74.20819895   79.65688216  172.52997122\n",
      "  943.1416225 ]\n",
      "79.7952554599\n",
      "test loaded\n",
      "sample4_period1\n",
      "[  272.28866024    18.69306697    91.58813281    70.7934589     19.56112776\n",
      "  1247.59894979]\n",
      "[   17.28866024   217.30693303   174.41186719   196.2065411    181.43887224\n",
      "  1247.59894979]\n",
      "157.330574762\n",
      "test loaded\n",
      "sample5_period1\n",
      "[   22.51304576    34.80234154   107.12212723    26.25733535    97.13451927\n",
      "  1296.30060171]\n",
      "[  482.48695424   317.19765846   251.87787277   255.74266465   112.86548073\n",
      "  1296.30060171]\n",
      "284.034126169\n",
      "test loaded\n",
      "sample8_period1\n",
      "[  974.5290952    960.14927469  1027.85841439   974.56096834  1574.05286142\n",
      "  1482.47796552]\n",
      "[  902.5290952    904.14927469   986.85841439   963.56096834  1574.05286142\n",
      "  1482.47796552]\n",
      "1066.23012281\n"
     ]
    }
   ],
   "source": [
    "period1 = ['sample1_period1','sample4_period1','sample5_period1','sample8_period1']\n",
    "\n",
    "# Model 1\n",
    "start_date = datetime.datetime(2015,01,25, 8,0,0)\n",
    "mintime = int(time.mktime(start_date.timetuple()))\n",
    "maxtime = 1422806400\n",
    "\n",
    "X, y = extract_features_cv(mintime,maxtime,tweet_superbowl_1)\n",
    "model = sm.regression.linear_model.OLS(y, X).fit()\n",
    "params = model.params\n",
    "\n",
    "for test_file in period1:  \n",
    "    f = open('test_data/'+test_file)\n",
    "    f_start = f.tell()\n",
    "    f.seek(f_start)\n",
    "    test = []\n",
    "    for line in f.readlines():\n",
    "        tweet = json.loads(line)\n",
    "        test.append(tweet)\n",
    "#     print \"test loaded\"\n",
    "\n",
    "    test_mintime = test[0]['firstpost_date']\n",
    "#     test_maxtime = test_mintime + 5*3600\n",
    "    X_test, y_test = extract_features_test(test_mintime,test)\n",
    "    y_test.append(0)\n",
    "    \n",
    "    predict = np.abs(np.dot(X_test,params))\n",
    "    error = np.abs(predict - y_test)\n",
    "#     error = np.mean(np.abs(predict - y_test))\n",
    "    print test_file\n",
    "    print predict\n",
    "    print error\n",
    "    print np.mean(error[0:-1])"
   ]
  },
  {
   "cell_type": "code",
   "execution_count": 169,
   "metadata": {
    "collapsed": false
   },
   "outputs": [
    {
     "name": "stdout",
     "output_type": "stream",
     "text": [
      "test loaded\n",
      "sample2_period2\n",
      "[  165124.16018631   103162.72951083   121822.80381229    22801.76693636\n",
      "   371691.76697273  2325079.75924624]\n",
      "[  155763.16018631    92788.72951083   101756.80381229    59156.23306364\n",
      "   288768.76697273  2325079.75924624]\n",
      "139646.738709\n",
      "test loaded\n",
      "sample6_period2\n",
      "[  278223.25322006   557868.90284361  7108130.03270766  6069509.6342015\n",
      "  4392397.4200532   2496671.60320307]\n",
      "[  265280.25322006   497241.90284361  7055435.03270766  6028493.6342015\n",
      "  4355104.4200532   2496671.60320307]\n",
      "3640311.04861\n",
      "test loaded\n",
      "sample9_period2\n",
      "[ 360821.16755316  386348.40694904  406140.511448    431236.39419826\n",
      "  456160.88790475  491281.72334073]\n",
      "[ 359087.16755316  384729.40694904  404558.511448    429379.39419826\n",
      "  453370.88790475  491281.72334073]\n",
      "406225.073611\n"
     ]
    }
   ],
   "source": [
    "period2 = ['sample2_period2','sample6_period2','sample9_period2']\n",
    "\n",
    "# Model 2\n",
    "mintime = 1422806400\n",
    "maxtime = 1422849600\n",
    "\n",
    "X_2, y_2 = extract_features_cv(mintime,maxtime,tweet_superbowl_2)\n",
    "model = sm.regression.linear_model.OLS(y_2, X_2).fit()\n",
    "params = model.params\n",
    "\n",
    "for test_file in period2:  \n",
    "    f = open('test_data/'+test_file)\n",
    "    f_start = f.tell()\n",
    "    f.seek(f_start)\n",
    "    test = []\n",
    "    for line in f.readlines():\n",
    "        tweet = json.loads(line)\n",
    "        test.append(tweet)\n",
    "    print \"test loaded\"\n",
    "\n",
    "    test_mintime = test[0]['firstpost_date']\n",
    "#     test_maxtime = 1422835199\n",
    "    X_test, y_test = extract_features_test(test_mintime,test)\n",
    "    y_test.append(0)\n",
    "    \n",
    "#     predict = model.predict(X_test)\n",
    "    predict = np.abs(np.dot(X_test,params))\n",
    "    error = np.abs(predict - y_test)\n",
    "    print test_file\n",
    "    print predict\n",
    "    print error\n",
    "    print np.mean(error[0:-1])"
   ]
  },
  {
   "cell_type": "code",
   "execution_count": 170,
   "metadata": {
    "collapsed": false
   },
   "outputs": [
    {
     "name": "stdout",
     "output_type": "stream",
     "text": [
      "test loaded\n",
      "sample3_period3\n",
      "[  859.22598091   987.13291068  1074.18198879  1202.43365883  1035.31041337\n",
      "   237.69606366]\n",
      "[ 310.22598091  377.13291068  186.18198879  586.43365883  512.31041337\n",
      "  237.69606366]\n",
      "394.456990516\n",
      "test loaded\n",
      "sample7_period3\n",
      "[ 640.68652121  623.25528463  514.85943617  464.2247685   355.63768205\n",
      "  199.01340632]\n",
      "[ 538.68652121  557.25528463  454.85943617  409.2247685   235.63768205\n",
      "  199.01340632]\n",
      "439.132738515\n",
      "test loaded\n",
      "sample10_period3\n",
      "[ 496.67385798  559.81680185  486.79507423  379.25189396  400.07529549\n",
      "   97.23640657]\n",
      "[ 443.67385798  492.81680185  424.79507423  321.25189396  339.07529549\n",
      "   97.23640657]\n",
      "404.322584701\n"
     ]
    }
   ],
   "source": [
    "period3 = ['sample3_period3','sample7_period3','sample10_period3']\n",
    "\n",
    "# Model 3\n",
    "mintime = 1422849600\n",
    "end_date = datetime.datetime(2015,02,06, 0,0,0)\n",
    "maxtime = int(time.mktime(end_date.timetuple()))\n",
    "\n",
    "X_3, y_3 = extract_features_cv(mintime,maxtime,tweet_superbowl_3)\n",
    "model = sm.regression.linear_model.OLS(y_3, X_3).fit()\n",
    "params = model.params\n",
    "\n",
    "for test_file in period3:  \n",
    "    f = open('test_data/'+test_file)\n",
    "    f_start = f.tell()\n",
    "    f.seek(f_start)\n",
    "    test = []\n",
    "    for line in f.readlines():\n",
    "        tweet = json.loads(line)\n",
    "        test.append(tweet)\n",
    "    print \"test loaded\"\n",
    "\n",
    "    test_mintime = test[0]['firstpost_date']\n",
    "    X_test, y_test = extract_features_test(test_mintime,test)\n",
    "    y_test.append(0)\n",
    "\n",
    "    predict = np.abs(np.dot(X_test,params))\n",
    "    error = np.abs(predict - y_test)\n",
    "    print test_file\n",
    "    print predict\n",
    "    print error\n",
    "    print np.mean(error[0:-1])"
   ]
  },
  {
   "cell_type": "code",
   "execution_count": 173,
   "metadata": {
    "collapsed": true
   },
   "outputs": [],
   "source": [
    "def testing(tweets):\n",
    "    # split tweets\n",
    "    time1 = 1422806400 #20150201 8:00am\n",
    "    time2 = 1422849600 #20150201 8:00pm\n",
    "\n",
    "    tweet_1 = []\n",
    "    tweet_2 = []\n",
    "    tweet_3 = []\n",
    "    for i in range(0,len(tweets)):\n",
    "        tweet = tweets[i]\n",
    "        tweet_time = tweet['firstpost_date']\n",
    "        if tweet_time < time1: # first set\n",
    "            tweet_1.append(tweet)\n",
    "        elif tweet_time >= time1 and tweet_time < time2: # second set\n",
    "            tweet_2.append(tweet)\n",
    "        else: # third set\n",
    "            tweet_3.append(tweet)\n",
    "    print(\"Finish Split\")\n",
    "    \n",
    "    # Test Period 1\n",
    "    period1 = ['sample1_period1','sample4_period1','sample5_period1','sample8_period1']\n",
    "\n",
    "    start_date = datetime.datetime(2015,01,25, 8,0,0)\n",
    "    mintime = int(time.mktime(start_date.timetuple()))\n",
    "    maxtime = 1422806400\n",
    "\n",
    "    X, y = extract_features_cv(mintime,maxtime,tweet_1)\n",
    "    model = sm.regression.linear_model.OLS(y, X).fit()\n",
    "    params = model.params\n",
    "\n",
    "    for test_file in period1:  \n",
    "        f = open('test_data/'+test_file)\n",
    "        f_start = f.tell()\n",
    "        f.seek(f_start)\n",
    "        test = []\n",
    "        for line in f.readlines():\n",
    "            tweet = json.loads(line)\n",
    "            test.append(tweet)\n",
    "\n",
    "        test_mintime = test[0]['firstpost_date']\n",
    "        X_test, y_test = extract_features_test(test_mintime,test)\n",
    "        y_test.append(0)\n",
    "\n",
    "        predict = np.abs(np.dot(X_test,params))\n",
    "        error = np.abs(predict - y_test)\n",
    "        print test_file\n",
    "        print predict\n",
    "        print error\n",
    "        print np.mean(error[0:-1])\n",
    "    \n",
    "    # Test Period 2\n",
    "    period2 = ['sample2_period2','sample6_period2','sample9_period2']\n",
    "\n",
    "    mintime = 1422806400\n",
    "    maxtime = 1422849600\n",
    "\n",
    "    X_2, y_2 = extract_features_cv(mintime,maxtime,tweet_2)\n",
    "    model = sm.regression.linear_model.OLS(y_2, X_2).fit()\n",
    "    params = model.params\n",
    "\n",
    "    for test_file in period2:  \n",
    "        f = open('test_data/'+test_file)\n",
    "        f_start = f.tell()\n",
    "        f.seek(f_start)\n",
    "        test = []\n",
    "        for line in f.readlines():\n",
    "            tweet = json.loads(line)\n",
    "            test.append(tweet)\n",
    "\n",
    "        test_mintime = test[0]['firstpost_date']\n",
    "    #     test_maxtime = 1422835199\n",
    "        X_test, y_test = extract_features_test(test_mintime,test)\n",
    "        y_test.append(0)\n",
    "\n",
    "    #     predict = model.predict(X_test)\n",
    "        predict = np.abs(np.dot(X_test,params))\n",
    "        error = np.abs(predict - y_test)\n",
    "        print test_file\n",
    "        print predict\n",
    "        print error\n",
    "        print np.mean(error[0:-1])\n",
    "        \n",
    "    # Test Period 3\n",
    "    period3 = ['sample3_period3','sample7_period3','sample10_period3']\n",
    "\n",
    "    mintime = 1422849600\n",
    "    end_date = datetime.datetime(2015,02,06, 0,0,0)\n",
    "    maxtime = int(time.mktime(end_date.timetuple()))\n",
    "\n",
    "    X_3, y_3 = extract_features_cv(mintime,maxtime,tweet_3)\n",
    "    model = sm.regression.linear_model.OLS(y_3, X_3).fit()\n",
    "    params = model.params\n",
    "\n",
    "    for test_file in period3:  \n",
    "        f = open('test_data/'+test_file)\n",
    "        f_start = f.tell()\n",
    "        f.seek(f_start)\n",
    "        test = []\n",
    "        for line in f.readlines():\n",
    "            tweet = json.loads(line)\n",
    "            test.append(tweet)\n",
    "\n",
    "        test_mintime = test[0]['firstpost_date']\n",
    "        X_test, y_test = extract_features_test(test_mintime,test)\n",
    "        y_test.append(0)\n",
    "\n",
    "        predict = np.abs(np.dot(X_test,params))\n",
    "        error = np.abs(predict - y_test)\n",
    "        print test_file\n",
    "        print predict\n",
    "        print error\n",
    "        print np.mean(error[0:-1])"
   ]
  },
  {
   "cell_type": "code",
   "execution_count": 172,
   "metadata": {
    "collapsed": false,
    "scrolled": false
   },
   "outputs": [
    {
     "name": "stdout",
     "output_type": "stream",
     "text": [
      "Finish Split\n",
      "sample1_period1\n",
      "[   45.6622016     39.77094234  1371.98790088    50.60255487    11.5989232\n",
      "   200.15606183]\n",
      "[   36.3377984     28.22905766  1277.98790088   120.39744513   166.4010768\n",
      "   200.15606183]\n",
      "325.870655775\n",
      "sample4_period1\n",
      "[ 177.65832976   49.57977751   56.89393826  132.42030189  101.36320595\n",
      "  252.25164918]\n",
      "[  77.34167024  186.42022249  209.10606174  134.57969811   99.63679405\n",
      "  252.25164918]\n",
      "141.416889327\n",
      "sample5_period1\n",
      "[  41.21596309   42.39084204  116.73274764   91.54310322   98.41627044\n",
      "  134.82743521]\n",
      "[ 463.78403691  309.60915796  242.26725236  190.45689678  111.58372956\n",
      "  134.82743521]\n",
      "263.540214716\n",
      "sample8_period1\n",
      "[  8.04034442  15.311648    12.94274454   8.20224768   3.41605435\n",
      "   1.12712334]\n",
      "[ 63.95965558  40.688352    28.05725546   2.79775232   3.41605435\n",
      "   1.12712334]\n",
      "27.7838139425\n",
      "test loaded\n",
      "sample2_period2\n",
      "[  24229.2334825    69080.24696782   58906.71632558   60906.50399221\n",
      "  199482.77539812  303544.25988421]\n",
      "[  14868.2334825    58706.24696782   38840.71632558   21051.49600779\n",
      "  116559.77539812  303544.25988421]\n",
      "50005.2936364\n",
      "test loaded\n",
      "sample6_period2\n",
      "[  16329.31211048  135114.90710068  921818.24306476  754298.67264772\n",
      "  558196.60449662  369023.44998521]\n",
      "[   3386.31211048   74487.90710068  869123.24306476  713282.67264772\n",
      "  520903.60449662  369023.44998521]\n",
      "436236.747884\n",
      "test loaded\n",
      "sample9_period2\n",
      "[  9597.5171303   14880.86817146  13770.32578598   6961.5995377\n",
      "     66.91604069   6456.75001412]\n",
      "[  7863.5171303   13261.86817146  12188.32578598   5104.5995377\n",
      "   2723.08395931   6456.75001412]\n",
      "8228.27891695\n",
      "test loaded\n",
      "sample3_period3\n",
      "[  3678.55608385   4382.03028925  16781.90272088  12724.30042619\n",
      "  11938.63688129   4965.51130471]\n",
      "[  3129.55608385   3772.03028925  15893.90272088  12108.30042619\n",
      "  11415.63688129   4965.51130471]\n",
      "9263.88528029\n",
      "test loaded\n",
      "sample7_period3\n",
      "[  63.83493711    5.09366331    2.06181461   18.07785545   13.93294618\n",
      "  481.63204588]\n",
      "[  38.16506289   60.90633669   57.93818539   36.92214455  106.06705382\n",
      "  481.63204588]\n",
      "59.9997566682\n",
      "test loaded\n",
      "sample10_period3\n",
      "[ 34.0541703    7.64502412  31.45984666  14.62222374  17.36642965\n",
      "  27.00738925]\n",
      "[ 18.9458297   59.35497588  30.54015334  43.37777626  43.63357035\n",
      "  27.00738925]\n",
      "39.1704611058\n"
     ]
    }
   ],
   "source": [
    "testing(tweet_gopatriots)"
   ]
  },
  {
   "cell_type": "code",
   "execution_count": 174,
   "metadata": {
    "collapsed": false,
    "scrolled": false
   },
   "outputs": [
    {
     "name": "stdout",
     "output_type": "stream",
     "text": [
      "#GoHawks\n",
      "Finish Split\n",
      "sample1_period1\n",
      "[ 259.91471004  145.47362706  739.96016698  128.90167884  128.09065863\n",
      "   11.97153752]\n",
      "[ 177.91471004   77.47362706  645.96016698   42.09832116   49.90934137\n",
      "   11.97153752]\n",
      "198.671233322\n",
      "sample4_period1\n",
      "[ 570.48370513  317.74933082  326.06512243  302.2494721   354.82551391\n",
      "   65.02475947]\n",
      "[ 315.48370513   81.74933082   60.06512243   35.2494721   153.82551391\n",
      "   65.02475947]\n",
      "129.274628878\n",
      "sample5_period1\n",
      "[ 370.12629035  332.20142274  364.79916467  479.39877942  282.79229473\n",
      "   33.43161762]\n",
      "[ 134.87370965   19.79857726    5.79916467  197.39877942   72.79229473\n",
      "   33.43161762]\n",
      "86.1325051466\n",
      "sample8_period1\n",
      "[ 80.08234243  88.50485888  80.56844787  72.47636325  86.94516439\n",
      "  92.6652886 ]\n",
      "[  8.08234243  32.50485888  39.56844787  61.47636325  86.94516439\n",
      "  92.6652886 ]\n",
      "45.7154353657\n",
      "sample2_period2\n",
      "[  16425.94708053   50837.86370794   48830.85675524   33074.6110815\n",
      "  137312.04375591   32377.4175942 ]\n",
      "[  7064.94708053  40463.86370794  28764.85675524  48883.3889185\n",
      "  54389.04375591  32377.4175942 ]\n",
      "35913.2200436\n",
      "sample6_period2\n",
      "[  19146.3888281    92403.69692391  637179.14994508  529311.25236164\n",
      "  374924.15355592  308383.78870031]\n",
      "[   6203.3888281    31776.69692391  584484.14994508  488295.25236164\n",
      "  337631.15355592  308383.78870031]\n",
      "289678.128323\n",
      "sample9_period2\n",
      "[ 55388.21891065  52887.54540156  44315.68675856  47909.12736277\n",
      "  41625.26251039  19218.54479594]\n",
      "[ 53654.21891065  51268.54540156  42733.68675856  46052.12736277\n",
      "  38835.26251039  19218.54479594]\n",
      "46508.7681888\n",
      "sample3_period3\n",
      "[ 1641.78432018  1619.54077836  5895.12860946  4954.67739488  4501.40310274\n",
      "  1342.59351465]\n",
      "[ 1092.78432018  1009.54077836  5007.12860946  4338.67739488  3978.40310274\n",
      "  1342.59351465]\n",
      "3085.30684112\n",
      "sample7_period3\n",
      "[ 179.7752012    36.37179607   22.48104192   59.7908674    80.95605591\n",
      "   30.35855769]\n",
      "[ 77.7752012   29.62820393  37.51895808   4.7908674   39.04394409\n",
      "  30.35855769]\n",
      "37.751434939\n",
      "sample10_period3\n",
      "[ 78.7350478   71.23755642  12.41198513  36.77628255  39.53500246\n",
      "  10.26757392]\n",
      "[ 25.7350478    4.23755642  49.58801487  21.22371745  21.46499754\n",
      "  10.26757392]\n",
      "24.4498668157\n",
      "#Patriots\n",
      "Finish Split\n",
      "sample1_period1\n",
      "[ 207.29242522  140.35799516    8.17343078  173.87177681  144.09321468\n",
      "   15.79900732]\n",
      "[ 125.29242522   72.35799516   85.82656922    2.87177681   33.90678532\n",
      "   15.79900732]\n",
      "64.0511103475\n",
      "sample4_period1\n",
      "[ 319.93949011  245.24709052  232.40192898  276.33897252  303.94908224\n",
      "   88.03554521]\n",
      "[  64.93949011    9.24709052   33.59807102    9.33897252  102.94908224\n",
      "   88.03554521]\n",
      "44.0145412806\n",
      "sample5_period1\n",
      "[ 332.82257148  325.96446178  371.51863445  321.26522557  257.61520513\n",
      "   69.63876468]\n",
      "[ 172.17742852   26.03553822   12.51863445   39.26522557   47.61520513\n",
      "   69.63876468]\n",
      "59.5224063774\n",
      "sample8_period1\n",
      "[  55.12527601   57.22224774   54.33683749   55.05049616   56.66037684\n",
      "  108.49808699]\n",
      "[  16.87472399    1.22224774   13.33683749   44.05049616   56.66037684\n",
      "  108.49808699]\n",
      "26.4289364454\n",
      "sample2_period2\n",
      "[   3949.56021054  104253.08256383   71645.23676442   72300.53767878\n",
      "   92854.88194123  825019.05078984]\n",
      "[   5411.43978946   93879.08256383   51579.23676442    9657.46232122\n",
      "    9931.88194123  825019.05078984]\n",
      "34091.820676\n",
      "sample6_period2\n",
      "[   9712.26897029   58339.85782256    4692.19219085  108920.26958353\n",
      "   25556.67465945  520130.99200933]\n",
      "[   3230.73102971    2287.14217744   48002.80780915   67904.26958353\n",
      "   11736.32534055  520130.99200933]\n",
      "26632.2551881\n",
      "sample9_period2\n",
      "[ 216149.54495145  244678.60835155  239578.39664634  264810.57317201\n",
      "  196859.45323344  333596.70220121]\n",
      "[ 214415.54495145  243059.60835155  237996.39664634  262953.57317201\n",
      "  194069.45323344  333596.70220121]\n",
      "230498.915271\n",
      "sample3_period3\n",
      "[  702.0949107    848.13368038  1459.69353831  1410.55833709  1168.61803768\n",
      "   202.24504294]\n",
      "[ 153.0949107   238.13368038  571.69353831  794.55833709  645.61803768\n",
      "  202.24504294]\n",
      "480.619700832\n",
      "sample7_period3\n",
      "[  85.50426512   71.4684397    71.36128648   99.31857469  112.19096743\n",
      "   36.17253098]\n",
      "[ 16.49573488   5.4684397   11.36128648  44.31857469   7.80903257\n",
      "  36.17253098]\n",
      "17.090613662\n",
      "sample10_period3\n",
      "[ 70.57072028  38.61226138   8.43080949  66.31238174  62.3327365\n",
      "  13.85608504]\n",
      "[ 17.57072028  28.38773862  53.56919051   8.31238174   1.3327365\n",
      "  13.85608504]\n",
      "21.8345535279\n",
      "#SB49\n",
      "Finish Split\n",
      "sample1_period1\n",
      "[ 196.83056082   88.03906487   68.03557871  133.19423724  219.15106438\n",
      "   60.55584539]\n",
      "[ 114.83056082   20.03906487   25.96442129   37.80576276   41.15106438\n",
      "   60.55584539]\n",
      "47.9581748247\n",
      "sample4_period1\n",
      "[ 645.3616613   323.54328547  316.06954407  466.62013217  427.00262308\n",
      "   34.92306101]\n",
      "[ 390.3616613    87.54328547   50.06954407  199.62013217  226.00262308\n",
      "   34.92306101]\n",
      "190.719449218\n",
      "sample5_period1\n",
      "[ 476.80041594  619.86672845  586.14054198  465.17736379  362.71892901\n",
      "  166.12635128]\n",
      "[  28.19958406  267.86672845  227.14054198  183.17736379  152.71892901\n",
      "  166.12635128]\n",
      "171.820629459\n",
      "sample8_period1\n",
      "[  54.97956034  106.30317174   79.27461254   60.33518668   12.6708678\n",
      "   31.47820234]\n",
      "[ 17.02043966  50.30317174  38.27461254  49.33518668  12.6708678\n",
      "  31.47820234]\n",
      "33.5208556838\n",
      "sample2_period2\n",
      "[  58539.81387216   69970.48025146   86157.24430047  123502.84738696\n",
      "  120250.8529127   942268.30522633]\n",
      "[  49178.81387216   59596.48025146   66091.24430047   41544.84738696\n",
      "   37327.8529127   942268.30522633]\n",
      "50747.8477448\n",
      "sample6_period2\n",
      "[ 101022.34373961   99253.40199444   89239.37151016   77124.13572604\n",
      "   67978.18968042  756843.41478369]\n",
      "[  88079.34373961   38626.40199444   36544.37151016   36108.13572604\n",
      "   30685.18968042  756843.41478369]\n",
      "46008.6885301\n",
      "sample9_period2\n",
      "[ 359394.14420278  370428.91153394  322386.00312255  301228.51188452\n",
      "  293136.34401936  324343.2965502 ]\n",
      "[ 357660.14420278  368809.91153394  320804.00312255  299371.51188452\n",
      "  290346.34401936  324343.2965502 ]\n",
      "327398.382953\n",
      "sample3_period3\n",
      "[ 1293.26022561  1431.27863577  1538.20910886  1574.57022852  1470.44606991\n",
      "   317.4340119 ]\n",
      "[ 744.26022561  821.27863577  650.20910886  958.57022852  947.44606991\n",
      "  317.4340119 ]\n",
      "824.352853735\n",
      "sample7_period3\n",
      "[ 305.27594609  229.17425815  221.49612557  262.62661536  358.35534933\n",
      "  166.05641469]\n",
      "[ 203.27594609  163.17425815  161.49612557  207.62661536  238.35534933\n",
      "  166.05641469]\n",
      "194.785658899\n",
      "sample10_period3\n",
      "[ 230.54089341  152.11659934   62.45774161  237.80903138  198.55534482\n",
      "   29.2707223 ]\n",
      "[ 177.54089341   85.11659934    0.45774161  179.80903138  137.55534482\n",
      "   29.2707223 ]\n",
      "116.095922111\n"
     ]
    }
   ],
   "source": [
    "print \"#GoHawks\"\n",
    "testing(tweet_gohawks)\n",
    "print \"#Patriots\"\n",
    "testing(tweet_patriots)\n",
    "print \"#SB49\"\n",
    "testing(tweet_sb49)"
   ]
  },
  {
   "cell_type": "code",
   "execution_count": 175,
   "metadata": {
    "collapsed": false
   },
   "outputs": [
    {
     "name": "stdout",
     "output_type": "stream",
     "text": [
      "sample1_period1\n",
      "[82, 68, 94, 171, 178]\n",
      "sample2_period2\n",
      "[9361, 10374, 20066, 81958, 82923]\n",
      "sample3_period3\n",
      "[549, 610, 888, 616, 523]\n",
      "sample4_period1\n",
      "[255, 236, 266, 267, 201]\n",
      "sample5_period1\n",
      "[505, 352, 359, 282, 210]\n",
      "sample6_period2\n",
      "[12943, 60627, 52695, 41016, 37293]\n",
      "sample7_period3\n",
      "[102, 66, 60, 55, 120]\n",
      "sample8_period1\n",
      "[72, 56, 41, 11, 0]\n",
      "sample9_period2\n",
      "[1734, 1619, 1582, 1857, 2790]\n",
      "sample10_period3\n",
      "[53, 67, 62, 58, 61]\n"
     ]
    }
   ],
   "source": [
    "tests = ['sample1_period1','sample2_period2','sample3_period3','sample4_period1','sample5_period1'\n",
    ",'sample6_period2','sample7_period3','sample8_period1','sample9_period2','sample10_period3']\n",
    "\n",
    "# Actual Value\n",
    "for test_file in tests:  \n",
    "    f = open('test_data/'+test_file)\n",
    "    f_start = f.tell()\n",
    "    f.seek(f_start)\n",
    "    test = []\n",
    "    for line in f.readlines():\n",
    "        tweet = json.loads(line)\n",
    "        test.append(tweet)\n",
    "\n",
    "    test_mintime = test[0]['firstpost_date']\n",
    "    X_test, y_test = extract_features_test(test_mintime,test)\n",
    "    print test_file\n",
    "    print y_test"
   ]
  },
  {
   "cell_type": "code",
   "execution_count": null,
   "metadata": {
    "collapsed": true
   },
   "outputs": [],
   "source": []
  }
 ],
 "metadata": {
  "kernelspec": {
   "display_name": "Python 2",
   "language": "python",
   "name": "python2"
  },
  "language_info": {
   "codemirror_mode": {
    "name": "ipython",
    "version": 2
   },
   "file_extension": ".py",
   "mimetype": "text/x-python",
   "name": "python",
   "nbconvert_exporter": "python",
   "pygments_lexer": "ipython2",
   "version": "2.7.13"
  }
 },
 "nbformat": 4,
 "nbformat_minor": 0
}
