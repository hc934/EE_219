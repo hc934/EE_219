{
 "cells": [
  {
   "cell_type": "code",
   "execution_count": 1,
   "metadata": {
    "collapsed": true
   },
   "outputs": [],
   "source": [
    "%matplotlib inline\n",
    "import matplotlib.pyplot as plt\n",
    "import json\n",
    "import datetime, time\n",
    "import numpy as np\n",
    "from pprint import pprint\n",
    "from sklearn import metrics\n",
    "from sklearn.model_selection import train_test_split\n",
    "import nltk\n",
    "import string\n",
    "from sklearn.feature_extraction.text import CountVectorizer\n",
    "from sklearn.feature_extraction.text import TfidfTransformer\n",
    "from nltk.stem import PorterStemmer\n",
    "from sklearn.decomposition import TruncatedSVD\n",
    "from sklearn.pipeline import make_pipeline\n",
    "from sklearn.preprocessing import Normalizer\n",
    "from sklearn.pipeline import Pipeline\n",
    "from sklearn.naive_bayes import MultinomialNB\n",
    "from sklearn.preprocessing import MinMaxScaler\n",
    "from sklearn.metrics import roc_curve, auc\n",
    "import time"
   ]
  },
  {
   "cell_type": "code",
   "execution_count": 2,
   "metadata": {
    "collapsed": false
   },
   "outputs": [
    {
     "name": "stdout",
     "output_type": "stream",
     "text": [
      "#superbowl loaded\n",
      "53593\n",
      "53593\n",
      "Finish loading tweets: 459.278976202 sec\n"
     ]
    }
   ],
   "source": [
    "start = time.time()\n",
    "f = open('tweet_data/tweets_#superbowl.txt')\n",
    "\n",
    "# Make sure to go back to file head\n",
    "f_start = f.tell()\n",
    "f.seek(f_start)\n",
    "\n",
    "WA = ['Washington', 'WA','Seattle','Kirkland'] #0\n",
    "MA = ['Massachusetts','MA','Boston'] #1\n",
    "X = []\n",
    "y = []\n",
    "ma_count = 0\n",
    "wa_count = 0\n",
    "for line in f.readlines():\n",
    "    tweet = json.loads(line)\n",
    "    tloc = tweet['tweet']['user']['location']\n",
    "    if not any(x in tloc for x in WA) and not any(x in tloc for x in MA):\n",
    "        continue  \n",
    "    if any(x in tloc for x in WA):\n",
    "        wa_count += 1\n",
    "        text = tweet['tweet']['text']\n",
    "        X.append(text)\n",
    "        y.append(0)\n",
    "    elif any(x in tloc for x in MA):\n",
    "        ma_count += 1\n",
    "        text = tweet['tweet']['text']\n",
    "        X.append(text)\n",
    "        y.append(1)\n",
    "print \"#superbowl loaded\"\n",
    "print len(X)\n",
    "print len(y)\n",
    "print \"Finish loading tweets: %s sec\"%(time.time() - start)"
   ]
  },
  {
   "cell_type": "code",
   "execution_count": 3,
   "metadata": {
    "collapsed": false
   },
   "outputs": [
    {
     "name": "stdout",
     "output_type": "stream",
     "text": [
      "30186\n",
      "23407\n"
     ]
    }
   ],
   "source": [
    "print wa_count\n",
    "print ma_count"
   ]
  },
  {
   "cell_type": "markdown",
   "metadata": {},
   "source": [
    "### split train/test"
   ]
  },
  {
   "cell_type": "code",
   "execution_count": 102,
   "metadata": {
    "collapsed": false
   },
   "outputs": [],
   "source": [
    "X_train, X_test, y_train, y_test = train_test_split(X, y, test_size=0.2, random_state=50)"
   ]
  },
  {
   "cell_type": "markdown",
   "metadata": {},
   "source": [
    "## TFIDF"
   ]
  },
  {
   "cell_type": "code",
   "execution_count": 103,
   "metadata": {
    "collapsed": false
   },
   "outputs": [],
   "source": [
    "# stemming words from the same root\n",
    "stemmer = PorterStemmer()\n",
    "def tokenize_and_stem(text):\n",
    "    tokens = nltk.tokenize.word_tokenize(text)\n",
    "    tokens = [token.strip(string.punctuation)\n",
    "                for token in tokens if token.isalnum()]\n",
    "    tokens = [stemmer.stem(token) for token in tokens]\n",
    "    return tokens\n",
    "\n",
    "# vectorize documents\n",
    "vectorizer = CountVectorizer(min_df=1, stop_words='english', tokenizer=tokenize_and_stem)\n",
    "\n",
    "# transform into TFIDF\n",
    "tfidf_transformer = TfidfTransformer(sublinear_tf=True, use_idf=True)\n",
    "\n",
    "# lsa\n",
    "svd = TruncatedSVD(n_components=50, n_iter=7, random_state=42)\n",
    "lsa = make_pipeline(svd, Normalizer(copy=False))"
   ]
  },
  {
   "cell_type": "markdown",
   "metadata": {},
   "source": [
    "### Naive Bayes"
   ]
  },
  {
   "cell_type": "code",
   "execution_count": 104,
   "metadata": {
    "collapsed": true
   },
   "outputs": [],
   "source": [
    "nb_text_clf = Pipeline([('vect', vectorizer),\n",
    "                     ('tfidf', tfidf_transformer),\n",
    "                     ('svd', lsa),\n",
    "                     ('scaler', MinMaxScaler()),\n",
    "                     ('clf', MultinomialNB()),\n",
    "])"
   ]
  },
  {
   "cell_type": "code",
   "execution_count": 105,
   "metadata": {
    "collapsed": false
   },
   "outputs": [],
   "source": [
    "nb_text_clf = nb_text_clf.fit(X_train,y_train)"
   ]
  },
  {
   "cell_type": "code",
   "execution_count": 106,
   "metadata": {
    "collapsed": false
   },
   "outputs": [
    {
     "data": {
      "text/plain": [
       "0.55928724694467769"
      ]
     },
     "execution_count": 106,
     "metadata": {},
     "output_type": "execute_result"
    }
   ],
   "source": [
    "predicted = nb_text_clf.predict(X_test)\n",
    "np.mean(predicted == y_test)"
   ]
  },
  {
   "cell_type": "code",
   "execution_count": 107,
   "metadata": {
    "collapsed": false
   },
   "outputs": [
    {
     "name": "stdout",
     "output_type": "stream",
     "text": [
      "               precision    recall  f1-score   support\n",
      "\n",
      "   Washington       0.56      1.00      0.72      5995\n",
      "Massachusetts       0.00      0.00      0.00      4724\n",
      "\n",
      "  avg / total       0.31      0.56      0.40     10719\n",
      "\n"
     ]
    },
    {
     "data": {
      "text/plain": [
       "array([[5995,    0],\n",
       "       [4724,    0]])"
      ]
     },
     "execution_count": 107,
     "metadata": {},
     "output_type": "execute_result"
    }
   ],
   "source": [
    "print(metrics.classification_report(y_test, predicted,\n",
    "    target_names=['Washington', 'Massachusetts']))\n",
    "\n",
    "metrics.confusion_matrix(np.array(y_test), predicted)"
   ]
  },
  {
   "cell_type": "code",
   "execution_count": 108,
   "metadata": {
    "collapsed": false
   },
   "outputs": [
    {
     "data": {
      "image/png": "[encoded data removed]",
      "text/plain": [
       "<matplotlib.figure.Figure at 0x11eb9ce10>"
      ]
     },
     "metadata": {},
     "output_type": "display_data"
    }
   ],
   "source": [
    "nb_predicted_prob = nb_text_clf.predict_proba(X_test)\n",
    "# plot ROC curve\n",
    "nb_fpr, nb_tpr, thresholds = roc_curve(y_test, nb_predicted_prob[:,1])\n",
    "nb_roc_auc = auc(nb_fpr, nb_tpr)\n",
    "\n",
    "plt.title('Receiver Operating Characteristic')\n",
    "plt.plot(nb_fpr, nb_tpr, 'b',\n",
    "label='AUC = %f'% nb_roc_auc)\n",
    "plt.legend(loc='lower right')\n",
    "plt.plot([0,1],[0,1],'r--')\n",
    "plt.xlim([-0.1,1.2])\n",
    "plt.ylim([-0.1,1.2])\n",
    "plt.ylabel('True Positive Rate')\n",
    "plt.xlabel('False Positive Rate')\n",
    "plt.show()"
   ]
  },
  {
   "cell_type": "markdown",
   "metadata": {},
   "source": [
    "## Linear SVM"
   ]
  },
  {
   "cell_type": "code",
   "execution_count": 109,
   "metadata": {
    "collapsed": true
   },
   "outputs": [],
   "source": [
    "from sklearn.svm import SVC\n",
    "lsvm_text_clf = Pipeline([('vect', vectorizer),\n",
    "                     ('tfidf', tfidf_transformer),\n",
    "                     ('svd', lsa),\n",
    "                     ('clf', SVC(kernel='linear')),\n",
    "])"
   ]
  },
  {
   "cell_type": "code",
   "execution_count": 110,
   "metadata": {
    "collapsed": true
   },
   "outputs": [],
   "source": [
    "# train\n",
    "lsvm_text_clf = lsvm_text_clf.fit(X_train, y_train)"
   ]
  },
  {
   "cell_type": "code",
   "execution_count": 111,
   "metadata": {
    "collapsed": true
   },
   "outputs": [],
   "source": [
    "# test\n",
    "lsvm_decision_function = lsvm_text_clf.decision_function(X_test)\n",
    "lsvm_predicted = lsvm_text_clf.predict(X_test)"
   ]
  },
  {
   "cell_type": "code",
   "execution_count": 112,
   "metadata": {
    "collapsed": false
   },
   "outputs": [
    {
     "name": "stdout",
     "output_type": "stream",
     "text": [
      "Accuracy:\n",
      "0.717231084989\n",
      "               precision    recall  f1-score   support\n",
      "\n",
      "   Washington       0.68      0.93      0.79      5995\n",
      "Massachusetts       0.83      0.45      0.58      4724\n",
      "\n",
      "  avg / total       0.75      0.72      0.70     10719\n",
      "\n"
     ]
    },
    {
     "data": {
      "text/plain": [
       "array([[5560,  435],\n",
       "       [2596, 2128]])"
      ]
     },
     "execution_count": 112,
     "metadata": {},
     "output_type": "execute_result"
    }
   ],
   "source": [
    "print 'Accuracy:'\n",
    "print np.mean(lsvm_predicted == y_test)\n",
    "print(metrics.classification_report(y_test, lsvm_predicted,\n",
    "    target_names=['Washington', 'Massachusetts']))\n",
    "\n",
    "metrics.confusion_matrix(y_test, lsvm_predicted)"
   ]
  },
  {
   "cell_type": "code",
   "execution_count": 113,
   "metadata": {
    "collapsed": false
   },
   "outputs": [
    {
     "data": {
      "image/png": "[encoded data removed]",
      "text/plain": [
       "<matplotlib.figure.Figure at 0x11ecbc250>"
      ]
     },
     "metadata": {},
     "output_type": "display_data"
    }
   ],
   "source": [
    "# plot ROC\n",
    "lsvm_fpr, lsvm_tpr, thresholds = roc_curve(y_test, lsvm_decision_function)\n",
    "lsvm_roc_auc = auc(lsvm_fpr, lsvm_tpr)\n",
    "\n",
    "plt.title('Receiver Operating Characteristic')\n",
    "plt.plot(lsvm_fpr, lsvm_tpr, 'b',\n",
    "label='AUC = %f'% lsvm_roc_auc)\n",
    "plt.legend(loc='lower right')\n",
    "plt.plot([0,1],[0,1],'r--')\n",
    "plt.xlim([-0.1,1.2])\n",
    "plt.ylim([-0.1,1.2])\n",
    "plt.ylabel('True Positive Rate')\n",
    "plt.xlabel('False Positive Rate')\n",
    "plt.show()"
   ]
  },
  {
   "cell_type": "markdown",
   "metadata": {},
   "source": [
    "## Logistic Regression"
   ]
  },
  {
   "cell_type": "code",
   "execution_count": 114,
   "metadata": {
    "collapsed": true
   },
   "outputs": [],
   "source": [
    "from sklearn.linear_model import LogisticRegression\n",
    "lgr_text_clf = Pipeline([('vect', vectorizer),\n",
    "                     ('tfidf', tfidf_transformer),\n",
    "                     ('svd', lsa),\n",
    "                     ('clf', LogisticRegression()),\n",
    "])"
   ]
  },
  {
   "cell_type": "code",
   "execution_count": 115,
   "metadata": {
    "collapsed": false
   },
   "outputs": [],
   "source": [
    "lgr_text_clf = lgr_text_clf.fit(X_train, y_train)"
   ]
  },
  {
   "cell_type": "code",
   "execution_count": 116,
   "metadata": {
    "collapsed": false
   },
   "outputs": [],
   "source": [
    "# test\n",
    "lgr_predicted_prob = lgr_text_clf.predict_proba(X_test)[:,1]\n",
    "lgr_predicted = lgr_text_clf.predict(X_test)"
   ]
  },
  {
   "cell_type": "code",
   "execution_count": 117,
   "metadata": {
    "collapsed": false
   },
   "outputs": [
    {
     "name": "stdout",
     "output_type": "stream",
     "text": [
      "Accuracy:\n",
      "0.7257206829\n",
      "               precision    recall  f1-score   support\n",
      "\n",
      "   Washington       0.69      0.91      0.79      5995\n",
      "Massachusetts       0.81      0.49      0.61      4724\n",
      "\n",
      "  avg / total       0.75      0.73      0.71     10719\n",
      "\n"
     ]
    },
    {
     "data": {
      "text/plain": [
       "array([[5461,  534],\n",
       "       [2406, 2318]])"
      ]
     },
     "execution_count": 117,
     "metadata": {},
     "output_type": "execute_result"
    }
   ],
   "source": [
    "print 'Accuracy:'\n",
    "print np.mean(lgr_predicted == y_test)\n",
    "print(metrics.classification_report(y_test, lgr_predicted,\n",
    "    target_names=['Washington', 'Massachusetts']))\n",
    "\n",
    "metrics.confusion_matrix(y_test, lgr_predicted)"
   ]
  },
  {
   "cell_type": "code",
   "execution_count": 118,
   "metadata": {
    "collapsed": false
   },
   "outputs": [
    {
     "data": {
      "image/png": "[encoded data removed]",
      "text/plain": [
       "<matplotlib.figure.Figure at 0x11f1ec650>"
      ]
     },
     "metadata": {},
     "output_type": "display_data"
    }
   ],
   "source": [
    "# plot ROC\n",
    "lgr_fpr, lgr_tpr, thresholds = roc_curve(y_test, lgr_predicted_prob)\n",
    "lgr_roc_auc = auc(lgr_fpr, lgr_tpr)\n",
    "\n",
    "plt.title('Receiver Operating Characteristic')\n",
    "plt.plot(lgr_fpr, lgr_tpr, 'b',\n",
    "label='AUC = %f'% lgr_roc_auc)\n",
    "plt.legend(loc='lower right')\n",
    "plt.plot([0,1],[0,1],'r--')\n",
    "plt.xlim([-0.1,1.2])\n",
    "plt.ylim([-0.1,1.2])\n",
    "plt.ylabel('True Positive Rate')\n",
    "plt.xlabel('False Positive Rate')\n",
    "plt.show()"
   ]
  },
  {
   "cell_type": "code",
   "execution_count": 119,
   "metadata": {
    "collapsed": false
   },
   "outputs": [
    {
     "name": "stdout",
     "output_type": "stream",
     "text": [
      "Total processing time: 914.895545959 sec\n"
     ]
    }
   ],
   "source": [
    "print \"Total processing time: %s sec\"%(time.time() - start)"
   ]
  },
  {
   "cell_type": "code",
   "execution_count": 126,
   "metadata": {
    "collapsed": false
   },
   "outputs": [],
   "source": [
    "lgr_text_clf = Pipeline([('vect', vectorizer),\n",
    "                     ('tfidf', tfidf_transformer),\n",
    "                     ('svd', lsa),\n",
    "                     ('clf', LogisticRegression(penalty='l1')),\n",
    "])"
   ]
  },
  {
   "cell_type": "code",
   "execution_count": 127,
   "metadata": {
    "collapsed": false
   },
   "outputs": [],
   "source": [
    "lgr_text_clf = lgr_text_clf.fit(X_train, y_train)"
   ]
  },
  {
   "cell_type": "code",
   "execution_count": 128,
   "metadata": {
    "collapsed": false
   },
   "outputs": [
    {
     "name": "stdout",
     "output_type": "stream",
     "text": [
      "Accuracy:\n",
      "0.725813975184\n",
      "               precision    recall  f1-score   support\n",
      "\n",
      "   Washington       0.69      0.91      0.79      5995\n",
      "Massachusetts       0.81      0.49      0.61      4724\n",
      "\n",
      "  avg / total       0.75      0.73      0.71     10719\n",
      "\n"
     ]
    },
    {
     "data": {
      "text/plain": [
       "array([[5458,  537],\n",
       "       [2402, 2322]])"
      ]
     },
     "execution_count": 128,
     "metadata": {},
     "output_type": "execute_result"
    }
   ],
   "source": [
    "# test\n",
    "lgr_predicted_prob = lgr_text_clf.predict_proba(X_test)[:,1]\n",
    "lgr_predicted = lgr_text_clf.predict(X_test)\n",
    "\n",
    "print 'Accuracy:'\n",
    "print np.mean(lgr_predicted == y_test)\n",
    "print(metrics.classification_report(y_test, lgr_predicted,\n",
    "    target_names=['Washington', 'Massachusetts']))\n",
    "\n",
    "metrics.confusion_matrix(y_test, lgr_predicted)"
   ]
  },
  {
   "cell_type": "code",
   "execution_count": 129,
   "metadata": {
    "collapsed": false
   },
   "outputs": [
    {
     "data": {
      "image/png": "[encoded data removed]",
      "text/plain": [
       "<matplotlib.figure.Figure at 0x1207f7a10>"
      ]
     },
     "metadata": {},
     "output_type": "display_data"
    }
   ],
   "source": [
    "# plot ROC\n",
    "lgr_fpr, lgr_tpr, thresholds = roc_curve(y_test, lgr_predicted_prob)\n",
    "lgr_roc_auc = auc(lgr_fpr, lgr_tpr)\n",
    "\n",
    "plt.title('Receiver Operating Characteristic')\n",
    "plt.plot(lgr_fpr, lgr_tpr, 'b',\n",
    "label='AUC = %f'% lgr_roc_auc)\n",
    "plt.legend(loc='lower right')\n",
    "plt.plot([0,1],[0,1],'r--')\n",
    "plt.xlim([-0.1,1.2])\n",
    "plt.ylim([-0.1,1.2])\n",
    "plt.ylabel('True Positive Rate')\n",
    "plt.xlabel('False Positive Rate')\n",
    "plt.show()"
   ]
  },
  {
   "cell_type": "markdown",
   "metadata": {
    "collapsed": true
   },
   "source": [
    "## 7) Sentiment Analysis"
   ]
  },
  {
   "cell_type": "code",
   "execution_count": 10,
   "metadata": {
    "collapsed": false
   },
   "outputs": [],
   "source": [
    "from textblob import TextBlob\n",
    "import re\n",
    "def clean_tweet(tweet):\n",
    "    '''\n",
    "    Utility function to clean tweet text by removing links, special characters\n",
    "    using simple regex statements.\n",
    "    '''\n",
    "    return ' '.join(re.sub(\"(@[A-Za-z0-9]+)|([^0-9A-Za-z \\t]) |(\\w+:\\/\\/\\S+)\", \" \", tweet).split())\n",
    "\n",
    "def get_tweet_sentiment(tweet):\n",
    "    '''\n",
    "    Utility function to classify sentiment of passed tweet\n",
    "    using textblob's sentiment method\n",
    "    '''\n",
    "    # create TextBlob object of passed tweet text\n",
    "    analysis = TextBlob(clean_tweet(tweet))\n",
    "    # set sentiment\n",
    "    if analysis.sentiment.polarity > 0:\n",
    "        return 'positive'\n",
    "    elif analysis.sentiment.polarity == 0:\n",
    "        return 'neutral'\n",
    "    else:\n",
    "        return 'negative'"
   ]
  },
  {
   "cell_type": "code",
   "execution_count": 11,
   "metadata": {
    "collapsed": false
   },
   "outputs": [
    {
     "name": "stdout",
     "output_type": "stream",
     "text": [
      "#gopatriots loaded\n"
     ]
    }
   ],
   "source": [
    "f = open('tweet_data/tweets_#gopatriots.txt')\n",
    "\n",
    "# Make sure to go back to file head\n",
    "f_start = f.tell()\n",
    "f.seek(f_start)\n",
    "tweets = []\n",
    "for line in f.readlines():\n",
    "    tweet = json.loads(line)\n",
    "    obj = {}\n",
    "    obj['loc'] = tweet['tweet']['user']['location']\n",
    "    obj['text'] = tweet['tweet']['text']\n",
    "    obj['sentiment'] = get_tweet_sentiment(tweet['tweet']['text'])\n",
    "    \n",
    "    tweets.append(obj)\n",
    "print \"#gopatriots loaded\""
   ]
  },
  {
   "cell_type": "code",
   "execution_count": 30,
   "metadata": {
    "collapsed": false
   },
   "outputs": [
    {
     "name": "stdout",
     "output_type": "stream",
     "text": [
      "Positive tweets percentage: 23 %\n",
      "Negative tweets percentage: 8 %\n",
      "Neutral tweets percentage: 67 %\n",
      "1259\n",
      "24973\n",
      "Tweets in MA\n",
      "Positive tweets percentage: 32 %\n",
      "Negative tweets percentage: 14 %\n",
      "Tweets in WA\n",
      "Positive tweets percentage: 33 %\n",
      "Negative tweets percentage: 17 %\n",
      "Tweets not in MA\n",
      "Positive tweets percentage: 23 %\n",
      "Negative tweets percentage: 8 %\n"
     ]
    }
   ],
   "source": [
    "# picking positive tweets from tweets\n",
    "ptweets = [tweet for tweet in tweets if tweet['sentiment'] == 'positive']\n",
    "# percentage of positive tweets\n",
    "print(\"Positive tweets percentage: {} %\".format(100*len(ptweets)/len(tweets)))\n",
    "\n",
    "# picking negative tweets from tweets\n",
    "ntweets = [tweet for tweet in tweets if tweet['sentiment'] == 'negative']\n",
    "# percentage of negative tweets\n",
    "print(\"Negative tweets percentage: {} %\".format(100*len(ntweets)/len(tweets)))\n",
    "\n",
    "# percentage of neutral tweets\n",
    "print(\"Neutral tweets percentage: {} %\".format(100*(len(tweets) - len(ntweets) - len(ptweets))/len(tweets)))\n",
    "\n",
    "# percentage of positive/negative tweets in MA\n",
    "WA = ['Washington', 'WA','Seattle','Kirkland'] \n",
    "MA = ['Massachusetts','MA','Boston'] \n",
    "\n",
    "tweets_MA = [tweet for tweet in tweets if any(x in tweet['loc'] for x in MA)]\n",
    "tweets_not_MA = [tweet for tweet in tweets if not any(x in tweet['loc'] for x in MA)]\n",
    "tweets_WA = [tweet for tweet in tweets if any(x in tweet['loc'] for x in WA)]\n",
    "print len(tweets_MA)\n",
    "print len(tweets_not_MA)\n",
    "print (\"Tweets in MA\")\n",
    "pMAtweets = [tweet for tweet in tweets_MA if tweet['sentiment'] == 'positive']\n",
    "print(\"Positive tweets percentage: {} %\".format(100*len(pMAtweets)/len(tweets_MA)))\n",
    "\n",
    "nMAtweets = [tweet for tweet in tweets_MA if tweet['sentiment'] == 'negative']\n",
    "# percentage of negative tweets\n",
    "print(\"Negative tweets percentage: {} %\".format(100*len(nMAtweets)/len(tweets_MA)))\n",
    "\n",
    "print (\"Tweets in WA\")\n",
    "pWAtweets = [tweet for tweet in tweets_WA if tweet['sentiment'] == 'positive']\n",
    "print(\"Positive tweets percentage: {} %\".format(100*len(pWAtweets)/len(tweets_WA)))\n",
    "\n",
    "nWAtweets = [tweet for tweet in tweets_WA if tweet['sentiment'] == 'negative']\n",
    "# percentage of negative tweets\n",
    "print(\"Negative tweets percentage: {} %\".format(100*len(nWAtweets)/len(tweets_WA)))\n",
    "\n",
    "print (\"Tweets not in MA\")\n",
    "pNMAtweets = [tweet for tweet in tweets_not_MA if tweet['sentiment'] == 'positive']\n",
    "print(\"Positive tweets percentage: {} %\".format(100*len(pNMAtweets)/len(tweets_not_MA)))\n",
    "\n",
    "nNMAtweets = [tweet for tweet in tweets_not_MA if tweet['sentiment'] == 'negative']\n",
    "# percentage of negative tweets\n",
    "print(\"Negative tweets percentage: {} %\".format(100*len(nNMAtweets)/len(tweets_not_MA)))"
   ]
  },
  {
   "cell_type": "code",
   "execution_count": 37,
   "metadata": {
    "collapsed": false
   },
   "outputs": [
    {
     "name": "stdout",
     "output_type": "stream",
     "text": [
      "\n",
      "\n",
      "Positive tweets:\n",
      "Will be so glad when this shift is over. So ready for the weekend #HomeDepot #GoPatriots\n",
      "Oh, okay. #GoHawks \n",
      "But #GoPatriots too. @ Seattle Downtown http://t.co/Oi0fusmFLP\n",
      "Good Sunday morning! #GoPatriots\n",
      "@KenB_Sr Aww, thanks, Ken! Rootin' for the Pats even if I know diddly squat about football. #GoPatriots\n",
      "@bibbsmike good news for you is I'm closer to 40 than you are! And re: the Patriots...you don't like \"pink hat\" fans? #GoPatriots\n",
      "Way to go Seahawks! You won't be so fortunate against the New England Patriots! #GoPatriots!\n",
      "Let's go New England Patriots! #GoPatriots!\n",
      "Still stunned by that #Seahawks victory!! Wow!! Now time for the #Patriots to join them! #GoPatriots\n",
      "Oh yeah. I'm liking the beginning of this game *much* better. #GoPatriots\n",
      "And there we have it! It will be the New England Patriots vs the Seahawks in the latest Superbowl! #GoPatriots!\n",
      "\n",
      "\n",
      "Negative tweets:\n",
      "So can't wait for the game tomorrow. The #Patriots game that is. #GoPatriots\n",
      "@PaulNanos sorry to disappoint you ( thanks for the shout out) #GoPatriots\n",
      "Theme today: turnovers. Fingers crossed this doesn't continue into game 2. #gopatriots #DoYourJob\n",
      "My thanx for OT, as gives me time to eat dinner before real game starts. #GoPatriots\n",
      "#amblogging while watching the AFC game. #GoPatriots Want my new team to play my old team in the #SuperBowl\n",
      "So far, this game has been *much* less stressful to watch! Let's keep it that way. #GoPatriots! #mydreamsuperbowl\n",
      "Is it wrong to be at work and thinking about listening to @ALawRadio when I am off at midnight? #HomeDepot #GoPatriots\n",
      "@ALawRadio @jayfeely @CBSSportsRadio PLEASE talk about the game and not deflated balls. #enoughisenough #GoPatriots\n",
      "@Alright_Riley sick to my stomach and anxiety likes the cops are after me. #GoPats #GoPatriots\n",
      "We don't get mad, we get even #GoPatriots #SuperBowlXLIX #DoYourJob @Patriots\n"
     ]
    }
   ],
   "source": [
    "# printing first 5 positive tweets\n",
    "print(\"\\n\\nPositive tweets:\")\n",
    "for tweet in pWAtweets[:10]:\n",
    "    print(tweet['text'])\n",
    "\n",
    "# printing first 5 negative tweets\n",
    "print(\"\\n\\nNegative tweets:\")\n",
    "for tweet in nWAtweets[:10]:\n",
    "    print(tweet['text'])"
   ]
  },
  {
   "cell_type": "code",
   "execution_count": 16,
   "metadata": {
    "collapsed": false
   },
   "outputs": [
    {
     "name": "stdout",
     "output_type": "stream",
     "text": [
      "#gohawks loaded\n"
     ]
    }
   ],
   "source": [
    "f = open('tweet_data/tweets_#gohawks.txt')\n",
    "\n",
    "# Make sure to go back to file head\n",
    "f_start = f.tell()\n",
    "f.seek(f_start)\n",
    "tweets_hawks = []\n",
    "for line in f.readlines():\n",
    "    tweet = json.loads(line)\n",
    "    obj = {}\n",
    "    obj['loc'] = tweet['tweet']['user']['location']\n",
    "    obj['text'] = tweet['tweet']['text']\n",
    "    obj['sentiment'] = get_tweet_sentiment(tweet['tweet']['text'])\n",
    "    \n",
    "    tweets_hawks.append(obj)\n",
    "print \"#gohawks loaded\""
   ]
  },
  {
   "cell_type": "code",
   "execution_count": 29,
   "metadata": {
    "collapsed": false
   },
   "outputs": [
    {
     "name": "stdout",
     "output_type": "stream",
     "text": [
      "Positive tweets percentage: 34 %\n",
      "Negative tweets percentage: 13 %\n",
      "Neutral tweets percentage: 51 %\n",
      "563\n",
      "57339\n",
      "130797\n",
      "Tweets in MA\n",
      "Positive tweets percentage: 37 %\n",
      "Negative tweets percentage: 16 %\n",
      "Tweets in WA\n",
      "Positive tweets percentage: 37 %\n",
      "Negative tweets percentage: 13 %\n",
      "Tweets not in WA\n",
      "Positive tweets percentage: 33 %\n",
      "Negative tweets percentage: 13 %\n"
     ]
    }
   ],
   "source": [
    "# picking positive tweets from tweets\n",
    "ptweets = [tweet for tweet in tweets_hawks if tweet['sentiment'] == 'positive']\n",
    "# percentage of positive tweets\n",
    "print(\"Positive tweets percentage: {} %\".format(100*len(ptweets)/len(tweets_hawks)))\n",
    "\n",
    "# picking negative tweets from tweets\n",
    "ntweets = [tweet for tweet in tweets_hawks if tweet['sentiment'] == 'negative']\n",
    "# percentage of negative tweets\n",
    "print(\"Negative tweets percentage: {} %\".format(100*len(ntweets)/len(tweets_hawks)))\n",
    "\n",
    "# picking neutral tweets from tweets\n",
    "nntweets = [tweet for tweet in tweets_hawks if tweet['sentiment'] == 'neutral']\n",
    "\n",
    "# percentage of neutral tweets\n",
    "print(\"Neutral tweets percentage: {} %\".format(100*(len(tweets_hawks) - len(ntweets) - len(ptweets))/len(tweets_hawks)))\n",
    "\n",
    "tweets_MA = [tweet for tweet in tweets_hawks if any(x in tweet['loc'] for x in MA)]\n",
    "tweets_not_WA = [tweet for tweet in tweets_hawks if not any(x in tweet['loc'] for x in WA)]\n",
    "tweets_WA = [tweet for tweet in tweets_hawks if any(x in tweet['loc'] for x in WA)]\n",
    "print len(tweets_MA)\n",
    "print len(tweets_WA)\n",
    "print len(tweets_not_WA)\n",
    "print (\"Tweets in MA\")\n",
    "pMAtweets = [tweet for tweet in tweets_MA if tweet['sentiment'] == 'positive']\n",
    "print(\"Positive tweets percentage: {} %\".format(100*len(pMAtweets)/len(tweets_MA)))\n",
    "\n",
    "nMAtweets = [tweet for tweet in tweets_MA if tweet['sentiment'] == 'negative']\n",
    "# percentage of negative tweets\n",
    "print(\"Negative tweets percentage: {} %\".format(100*len(nMAtweets)/len(tweets_MA)))\n",
    "\n",
    "print (\"Tweets in WA\")\n",
    "pWAtweets = [tweet for tweet in tweets_WA if tweet['sentiment'] == 'positive']\n",
    "print(\"Positive tweets percentage: {} %\".format(100*len(pWAtweets)/len(tweets_WA)))\n",
    "\n",
    "nWAtweets = [tweet for tweet in tweets_WA if tweet['sentiment'] == 'negative']\n",
    "# percentage of negative tweets\n",
    "print(\"Negative tweets percentage: {} %\".format(100*len(nWAtweets)/len(tweets_WA)))\n",
    "\n",
    "print (\"Tweets not in WA\")\n",
    "pNMAtweets = [tweet for tweet in tweets_not_WA if tweet['sentiment'] == 'positive']\n",
    "print(\"Positive tweets percentage: {} %\".format(100*len(pNMAtweets)/len(tweets_not_WA)))\n",
    "\n",
    "nNMAtweets = [tweet for tweet in tweets_not_WA if tweet['sentiment'] == 'negative']\n",
    "# percentage of negative tweets\n",
    "print(\"Negative tweets percentage: {} %\".format(100*len(nNMAtweets)/len(tweets_not_WA)))"
   ]
  },
  {
   "cell_type": "code",
   "execution_count": 38,
   "metadata": {
    "collapsed": false
   },
   "outputs": [
    {
     "name": "stdout",
     "output_type": "stream",
     "text": [
      "\n",
      "\n",
      "Positive tweets:\n",
      "I don't care what anyone says! Tom Brady is the best ever!! #GoPatriots\n",
      "The girls soccer team is ranked the No. 3 team in the state. Full rankings: http://t.co/9Tw8iToZHl #GoPatriots.\n",
      "@christinaballin thanks for the follow! \n",
      "#GoPatriots\n",
      "“@_ria84: @JoshJenkins24 which team do you follow? who do you want to win Super Bowl XLIX??” Stay tuned for next weeks column #GoPatriots 🏈\n",
      "Reminder - Old HomeBase Bell Schedule today/tomorrow Patriots for scheduling meetings. Freshmen today; Sophomores tomorrow. #gopatriots\n",
      "Can't wait to watch the Super Bowl of this season😍😍 I swear I'll not going to miss it this time! #GoPatriots\n",
      "@MP_DESIGNS_Bx Thanks Great day to you too brotha!! #PatriotsFamily #GoPatriots\n",
      "@honeychocolate9 You too!! Only 4 more days until  #Gameday #GoPatriots\n",
      "Beautiful man, beautiful numbers! #GoPatriots #BradyIsBetter #AFCChampionship http://t.co/KSHhRR2zzA\n",
      "@honeychocolate9 Of course I'm ready. #GoPatriots\n",
      "\n",
      "\n",
      "Negative tweets:\n",
      "LeGarrette Blount does the Ray Lewis Dance #ThrowbackThursday https://t.co/F5FX5KVmdX\n",
      "Hope to see it at least 3 times tomorrow. \n",
      "#GoPatriots\n",
      "With both my father and husband yelling at the TV, it's hard not to get into the game! #gopatriots #football #patriots #newengland #yay\n",
      "12-0!! The girls varsity soccer team dominates the first playoff game and now looks ahead to their next game Thursday night! #GoPatriots\n",
      "10/11 division titles...9/10 #AFCchampionship games...5/9 #SupeBowl entries...3/5 #SupeBowl titles...whats ur team done lately?? #GoPatriots\n",
      "If I don't get to see any of the Patriots vs. Colts game I'm gonna be angry.... Very angry #WorkSucks #GoPatriots!\n",
      "@DunkinBoston @Patriots I like hot snickerdoodle coffee to fuel my game day!!! #DDPlayoffSweeps #GoPatriots\n",
      "Really hoping that I'll be at the hotel by game time Sunday night ... #gopatriots!\n",
      "@NESN Tom is a good guy.  Haters gonna hate #GoPatriots\n",
      "@Patriots @NewEraCap  i never win maybe cause im in Houston,Tx. 😣😣😢 #GoPatriots #PatsHats\n",
      "Either my laptop is slow or Cumberland needs to work on Live stream. #gopatriots\n"
     ]
    }
   ],
   "source": [
    "# printing first 5 positive tweets\n",
    "print(\"\\n\\nPositive tweets:\")\n",
    "for tweet in ptweets[:10]:\n",
    "    print(tweet['text'])\n",
    "\n",
    "# printing first 5 negative tweets\n",
    "print(\"\\n\\nNegative tweets:\")\n",
    "for tweet in ntweets[:10]:\n",
    "    print(tweet['text'])"
   ]
  },
  {
   "cell_type": "code",
   "execution_count": null,
   "metadata": {
    "collapsed": true
   },
   "outputs": [],
   "source": []
  }
 ],
 "metadata": {
  "kernelspec": {
   "display_name": "Python 2",
   "language": "python",
   "name": "python2"
  },
  "language_info": {
   "codemirror_mode": {
    "name": "ipython",
    "version": 2
   },
   "file_extension": ".py",
   "mimetype": "text/x-python",
   "name": "python",
   "nbconvert_exporter": "python",
   "pygments_lexer": "ipython2",
   "version": "2.7.13"
  }
 },
 "nbformat": 4,
 "nbformat_minor": 0
}
